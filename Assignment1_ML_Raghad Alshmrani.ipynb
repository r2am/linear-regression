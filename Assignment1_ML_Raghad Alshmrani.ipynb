{
 "cells": [
  {
   "cell_type": "code",
   "execution_count": 221,
   "id": "a3b9aa6a",
   "metadata": {},
   "outputs": [],
   "source": [
    "import pandas as pd\n",
    "import numpy as np\n",
    "import matplotlib.pyplot as plt\n",
    "import sklearn\n",
    "from sklearn import linear_model\n",
    "import seaborn as sns\n",
    "from sklearn.metrics import explained_variance_score\n",
    "from sklearn.metrics import max_error\n",
    "from sklearn.metrics import mean_absolute_error\n",
    "from sklearn.metrics import mean_squared_error\n",
    "from sklearn.metrics import median_absolute_error\n",
    "from sklearn.metrics import r2_score\n",
    "from sklearn.ensemble import RandomForestRegressor\n",
    "from sklearn.linear_model import ElasticNet, Lasso, Ridge\n",
    "from sklearn.linear_model import RidgeCV\n"
   ]
  },
  {
   "cell_type": "code",
   "execution_count": 2,
   "id": "0de65534",
   "metadata": {},
   "outputs": [
    {
     "data": {
      "text/html": [
       "<div>\n",
       "<style scoped>\n",
       "    .dataframe tbody tr th:only-of-type {\n",
       "        vertical-align: middle;\n",
       "    }\n",
       "\n",
       "    .dataframe tbody tr th {\n",
       "        vertical-align: top;\n",
       "    }\n",
       "\n",
       "    .dataframe thead th {\n",
       "        text-align: right;\n",
       "    }\n",
       "</style>\n",
       "<table border=\"1\" class=\"dataframe\">\n",
       "  <thead>\n",
       "    <tr style=\"text-align: right;\">\n",
       "      <th></th>\n",
       "      <th>school</th>\n",
       "      <th>sex</th>\n",
       "      <th>age</th>\n",
       "      <th>address</th>\n",
       "      <th>famsize</th>\n",
       "      <th>Pstatus</th>\n",
       "      <th>Medu</th>\n",
       "      <th>Fedu</th>\n",
       "      <th>Mjob</th>\n",
       "      <th>Fjob</th>\n",
       "      <th>...</th>\n",
       "      <th>famrel</th>\n",
       "      <th>freetime</th>\n",
       "      <th>goout</th>\n",
       "      <th>Dalc</th>\n",
       "      <th>Walc</th>\n",
       "      <th>health</th>\n",
       "      <th>absences</th>\n",
       "      <th>G1</th>\n",
       "      <th>G2</th>\n",
       "      <th>G3</th>\n",
       "    </tr>\n",
       "  </thead>\n",
       "  <tbody>\n",
       "    <tr>\n",
       "      <th>0</th>\n",
       "      <td>GP</td>\n",
       "      <td>F</td>\n",
       "      <td>18</td>\n",
       "      <td>U</td>\n",
       "      <td>GT3</td>\n",
       "      <td>A</td>\n",
       "      <td>4</td>\n",
       "      <td>4</td>\n",
       "      <td>at_home</td>\n",
       "      <td>teacher</td>\n",
       "      <td>...</td>\n",
       "      <td>4</td>\n",
       "      <td>3</td>\n",
       "      <td>4</td>\n",
       "      <td>1</td>\n",
       "      <td>1</td>\n",
       "      <td>3</td>\n",
       "      <td>6</td>\n",
       "      <td>5</td>\n",
       "      <td>6</td>\n",
       "      <td>6</td>\n",
       "    </tr>\n",
       "    <tr>\n",
       "      <th>1</th>\n",
       "      <td>GP</td>\n",
       "      <td>F</td>\n",
       "      <td>17</td>\n",
       "      <td>U</td>\n",
       "      <td>GT3</td>\n",
       "      <td>T</td>\n",
       "      <td>1</td>\n",
       "      <td>1</td>\n",
       "      <td>at_home</td>\n",
       "      <td>other</td>\n",
       "      <td>...</td>\n",
       "      <td>5</td>\n",
       "      <td>3</td>\n",
       "      <td>3</td>\n",
       "      <td>1</td>\n",
       "      <td>1</td>\n",
       "      <td>3</td>\n",
       "      <td>4</td>\n",
       "      <td>5</td>\n",
       "      <td>5</td>\n",
       "      <td>6</td>\n",
       "    </tr>\n",
       "    <tr>\n",
       "      <th>2</th>\n",
       "      <td>GP</td>\n",
       "      <td>F</td>\n",
       "      <td>15</td>\n",
       "      <td>U</td>\n",
       "      <td>LE3</td>\n",
       "      <td>T</td>\n",
       "      <td>1</td>\n",
       "      <td>1</td>\n",
       "      <td>at_home</td>\n",
       "      <td>other</td>\n",
       "      <td>...</td>\n",
       "      <td>4</td>\n",
       "      <td>3</td>\n",
       "      <td>2</td>\n",
       "      <td>2</td>\n",
       "      <td>3</td>\n",
       "      <td>3</td>\n",
       "      <td>10</td>\n",
       "      <td>7</td>\n",
       "      <td>8</td>\n",
       "      <td>10</td>\n",
       "    </tr>\n",
       "    <tr>\n",
       "      <th>3</th>\n",
       "      <td>GP</td>\n",
       "      <td>F</td>\n",
       "      <td>15</td>\n",
       "      <td>U</td>\n",
       "      <td>GT3</td>\n",
       "      <td>T</td>\n",
       "      <td>4</td>\n",
       "      <td>2</td>\n",
       "      <td>health</td>\n",
       "      <td>services</td>\n",
       "      <td>...</td>\n",
       "      <td>3</td>\n",
       "      <td>2</td>\n",
       "      <td>2</td>\n",
       "      <td>1</td>\n",
       "      <td>1</td>\n",
       "      <td>5</td>\n",
       "      <td>2</td>\n",
       "      <td>15</td>\n",
       "      <td>14</td>\n",
       "      <td>15</td>\n",
       "    </tr>\n",
       "    <tr>\n",
       "      <th>4</th>\n",
       "      <td>GP</td>\n",
       "      <td>F</td>\n",
       "      <td>16</td>\n",
       "      <td>U</td>\n",
       "      <td>GT3</td>\n",
       "      <td>T</td>\n",
       "      <td>3</td>\n",
       "      <td>3</td>\n",
       "      <td>other</td>\n",
       "      <td>other</td>\n",
       "      <td>...</td>\n",
       "      <td>4</td>\n",
       "      <td>3</td>\n",
       "      <td>2</td>\n",
       "      <td>1</td>\n",
       "      <td>2</td>\n",
       "      <td>5</td>\n",
       "      <td>4</td>\n",
       "      <td>6</td>\n",
       "      <td>10</td>\n",
       "      <td>10</td>\n",
       "    </tr>\n",
       "  </tbody>\n",
       "</table>\n",
       "<p>5 rows × 33 columns</p>\n",
       "</div>"
      ],
      "text/plain": [
       "  school sex  age address famsize Pstatus  Medu  Fedu     Mjob      Fjob  ...  \\\n",
       "0     GP   F   18       U     GT3       A     4     4  at_home   teacher  ...   \n",
       "1     GP   F   17       U     GT3       T     1     1  at_home     other  ...   \n",
       "2     GP   F   15       U     LE3       T     1     1  at_home     other  ...   \n",
       "3     GP   F   15       U     GT3       T     4     2   health  services  ...   \n",
       "4     GP   F   16       U     GT3       T     3     3    other     other  ...   \n",
       "\n",
       "  famrel freetime  goout  Dalc  Walc health absences  G1  G2  G3  \n",
       "0      4        3      4     1     1      3        6   5   6   6  \n",
       "1      5        3      3     1     1      3        4   5   5   6  \n",
       "2      4        3      2     2     3      3       10   7   8  10  \n",
       "3      3        2      2     1     1      5        2  15  14  15  \n",
       "4      4        3      2     1     2      5        4   6  10  10  \n",
       "\n",
       "[5 rows x 33 columns]"
      ]
     },
     "execution_count": 2,
     "metadata": {},
     "output_type": "execute_result"
    }
   ],
   "source": [
    "data = pd.read_csv(r'C:\\Users\\رغد\\Desktop\\MS\\ML\\Ass1\\student-mat.csv', sep=';')\n",
    "data.head()"
   ]
  },
  {
   "cell_type": "code",
   "execution_count": 3,
   "id": "755904ad",
   "metadata": {},
   "outputs": [
    {
     "data": {
      "text/html": [
       "<div>\n",
       "<style scoped>\n",
       "    .dataframe tbody tr th:only-of-type {\n",
       "        vertical-align: middle;\n",
       "    }\n",
       "\n",
       "    .dataframe tbody tr th {\n",
       "        vertical-align: top;\n",
       "    }\n",
       "\n",
       "    .dataframe thead th {\n",
       "        text-align: right;\n",
       "    }\n",
       "</style>\n",
       "<table border=\"1\" class=\"dataframe\">\n",
       "  <thead>\n",
       "    <tr style=\"text-align: right;\">\n",
       "      <th></th>\n",
       "      <th>G1</th>\n",
       "      <th>G2</th>\n",
       "      <th>G3</th>\n",
       "      <th>studytime</th>\n",
       "      <th>failures</th>\n",
       "      <th>absences</th>\n",
       "    </tr>\n",
       "  </thead>\n",
       "  <tbody>\n",
       "    <tr>\n",
       "      <th>0</th>\n",
       "      <td>5</td>\n",
       "      <td>6</td>\n",
       "      <td>6</td>\n",
       "      <td>2</td>\n",
       "      <td>0</td>\n",
       "      <td>6</td>\n",
       "    </tr>\n",
       "    <tr>\n",
       "      <th>1</th>\n",
       "      <td>5</td>\n",
       "      <td>5</td>\n",
       "      <td>6</td>\n",
       "      <td>2</td>\n",
       "      <td>0</td>\n",
       "      <td>4</td>\n",
       "    </tr>\n",
       "    <tr>\n",
       "      <th>2</th>\n",
       "      <td>7</td>\n",
       "      <td>8</td>\n",
       "      <td>10</td>\n",
       "      <td>2</td>\n",
       "      <td>3</td>\n",
       "      <td>10</td>\n",
       "    </tr>\n",
       "    <tr>\n",
       "      <th>3</th>\n",
       "      <td>15</td>\n",
       "      <td>14</td>\n",
       "      <td>15</td>\n",
       "      <td>3</td>\n",
       "      <td>0</td>\n",
       "      <td>2</td>\n",
       "    </tr>\n",
       "    <tr>\n",
       "      <th>4</th>\n",
       "      <td>6</td>\n",
       "      <td>10</td>\n",
       "      <td>10</td>\n",
       "      <td>2</td>\n",
       "      <td>0</td>\n",
       "      <td>4</td>\n",
       "    </tr>\n",
       "  </tbody>\n",
       "</table>\n",
       "</div>"
      ],
      "text/plain": [
       "   G1  G2  G3  studytime  failures  absences\n",
       "0   5   6   6          2         0         6\n",
       "1   5   5   6          2         0         4\n",
       "2   7   8  10          2         3        10\n",
       "3  15  14  15          3         0         2\n",
       "4   6  10  10          2         0         4"
      ]
     },
     "execution_count": 3,
     "metadata": {},
     "output_type": "execute_result"
    }
   ],
   "source": [
    "data=data[['G1','G2','G3','studytime','failures','absences']]\n",
    "data.head()"
   ]
  },
  {
   "cell_type": "code",
   "execution_count": 4,
   "id": "7ed44297",
   "metadata": {},
   "outputs": [
    {
     "data": {
      "text/plain": [
       "(395, 6)"
      ]
     },
     "execution_count": 4,
     "metadata": {},
     "output_type": "execute_result"
    }
   ],
   "source": [
    "data.shape"
   ]
  },
  {
   "cell_type": "code",
   "execution_count": 5,
   "id": "aacdda8e",
   "metadata": {},
   "outputs": [
    {
     "data": {
      "text/html": [
       "<div>\n",
       "<style scoped>\n",
       "    .dataframe tbody tr th:only-of-type {\n",
       "        vertical-align: middle;\n",
       "    }\n",
       "\n",
       "    .dataframe tbody tr th {\n",
       "        vertical-align: top;\n",
       "    }\n",
       "\n",
       "    .dataframe thead th {\n",
       "        text-align: right;\n",
       "    }\n",
       "</style>\n",
       "<table border=\"1\" class=\"dataframe\">\n",
       "  <thead>\n",
       "    <tr style=\"text-align: right;\">\n",
       "      <th></th>\n",
       "      <th>G1</th>\n",
       "      <th>G2</th>\n",
       "      <th>G3</th>\n",
       "      <th>studytime</th>\n",
       "      <th>failures</th>\n",
       "      <th>absences</th>\n",
       "    </tr>\n",
       "  </thead>\n",
       "  <tbody>\n",
       "    <tr>\n",
       "      <th>count</th>\n",
       "      <td>395.000000</td>\n",
       "      <td>395.000000</td>\n",
       "      <td>395.000000</td>\n",
       "      <td>395.000000</td>\n",
       "      <td>395.000000</td>\n",
       "      <td>395.000000</td>\n",
       "    </tr>\n",
       "    <tr>\n",
       "      <th>mean</th>\n",
       "      <td>10.908861</td>\n",
       "      <td>10.713924</td>\n",
       "      <td>10.415190</td>\n",
       "      <td>2.035443</td>\n",
       "      <td>0.334177</td>\n",
       "      <td>5.708861</td>\n",
       "    </tr>\n",
       "    <tr>\n",
       "      <th>std</th>\n",
       "      <td>3.319195</td>\n",
       "      <td>3.761505</td>\n",
       "      <td>4.581443</td>\n",
       "      <td>0.839240</td>\n",
       "      <td>0.743651</td>\n",
       "      <td>8.003096</td>\n",
       "    </tr>\n",
       "    <tr>\n",
       "      <th>min</th>\n",
       "      <td>3.000000</td>\n",
       "      <td>0.000000</td>\n",
       "      <td>0.000000</td>\n",
       "      <td>1.000000</td>\n",
       "      <td>0.000000</td>\n",
       "      <td>0.000000</td>\n",
       "    </tr>\n",
       "    <tr>\n",
       "      <th>25%</th>\n",
       "      <td>8.000000</td>\n",
       "      <td>9.000000</td>\n",
       "      <td>8.000000</td>\n",
       "      <td>1.000000</td>\n",
       "      <td>0.000000</td>\n",
       "      <td>0.000000</td>\n",
       "    </tr>\n",
       "    <tr>\n",
       "      <th>50%</th>\n",
       "      <td>11.000000</td>\n",
       "      <td>11.000000</td>\n",
       "      <td>11.000000</td>\n",
       "      <td>2.000000</td>\n",
       "      <td>0.000000</td>\n",
       "      <td>4.000000</td>\n",
       "    </tr>\n",
       "    <tr>\n",
       "      <th>75%</th>\n",
       "      <td>13.000000</td>\n",
       "      <td>13.000000</td>\n",
       "      <td>14.000000</td>\n",
       "      <td>2.000000</td>\n",
       "      <td>0.000000</td>\n",
       "      <td>8.000000</td>\n",
       "    </tr>\n",
       "    <tr>\n",
       "      <th>max</th>\n",
       "      <td>19.000000</td>\n",
       "      <td>19.000000</td>\n",
       "      <td>20.000000</td>\n",
       "      <td>4.000000</td>\n",
       "      <td>3.000000</td>\n",
       "      <td>75.000000</td>\n",
       "    </tr>\n",
       "  </tbody>\n",
       "</table>\n",
       "</div>"
      ],
      "text/plain": [
       "               G1          G2          G3   studytime    failures    absences\n",
       "count  395.000000  395.000000  395.000000  395.000000  395.000000  395.000000\n",
       "mean    10.908861   10.713924   10.415190    2.035443    0.334177    5.708861\n",
       "std      3.319195    3.761505    4.581443    0.839240    0.743651    8.003096\n",
       "min      3.000000    0.000000    0.000000    1.000000    0.000000    0.000000\n",
       "25%      8.000000    9.000000    8.000000    1.000000    0.000000    0.000000\n",
       "50%     11.000000   11.000000   11.000000    2.000000    0.000000    4.000000\n",
       "75%     13.000000   13.000000   14.000000    2.000000    0.000000    8.000000\n",
       "max     19.000000   19.000000   20.000000    4.000000    3.000000   75.000000"
      ]
     },
     "execution_count": 5,
     "metadata": {},
     "output_type": "execute_result"
    }
   ],
   "source": [
    "data.describe()"
   ]
  },
  {
   "cell_type": "code",
   "execution_count": 6,
   "id": "261b292f",
   "metadata": {},
   "outputs": [
    {
     "name": "stdout",
     "output_type": "stream",
     "text": [
      "<class 'pandas.core.frame.DataFrame'>\n",
      "RangeIndex: 395 entries, 0 to 394\n",
      "Data columns (total 6 columns):\n",
      " #   Column     Non-Null Count  Dtype\n",
      "---  ------     --------------  -----\n",
      " 0   G1         395 non-null    int64\n",
      " 1   G2         395 non-null    int64\n",
      " 2   G3         395 non-null    int64\n",
      " 3   studytime  395 non-null    int64\n",
      " 4   failures   395 non-null    int64\n",
      " 5   absences   395 non-null    int64\n",
      "dtypes: int64(6)\n",
      "memory usage: 18.6 KB\n"
     ]
    }
   ],
   "source": [
    "data.info()"
   ]
  },
  {
   "cell_type": "code",
   "execution_count": 7,
   "id": "77d61b31",
   "metadata": {},
   "outputs": [
    {
     "name": "stdout",
     "output_type": "stream",
     "text": [
      "     G1  G2  G3  studytime  failures  absences\n",
      "47   19  19  20          4         0         4\n",
      "113  18  19  19          1         0        10\n",
      "110  18  19  19          1         0         6\n",
      "286  18  18  19          3         0         5\n",
      "8    16  18  19          2         0         0\n",
      "..   ..  ..  ..        ...       ...       ...\n",
      "160   7   6   0          1         2         0\n",
      "162   7   0   0          1         1         0\n",
      "168   6   7   0          2         0         0\n",
      "367   7   6   0          1         1         0\n",
      "150   6   5   0          1         3         0\n",
      "\n",
      "[395 rows x 6 columns]\n"
     ]
    }
   ],
   "source": [
    "data_sort=data.sort_values(by='G3',ascending=False)\n",
    "print(data_sort)"
   ]
  },
  {
   "cell_type": "code",
   "execution_count": 8,
   "id": "42a36315",
   "metadata": {},
   "outputs": [
    {
     "data": {
      "text/plain": [
       "array([[<AxesSubplot:title={'center':'G1'}>,\n",
       "        <AxesSubplot:title={'center':'G2'}>],\n",
       "       [<AxesSubplot:title={'center':'G3'}>,\n",
       "        <AxesSubplot:title={'center':'studytime'}>],\n",
       "       [<AxesSubplot:title={'center':'failures'}>,\n",
       "        <AxesSubplot:title={'center':'absences'}>]], dtype=object)"
      ]
     },
     "execution_count": 8,
     "metadata": {},
     "output_type": "execute_result"
    },
    {
     "data": {
      "image/png": "[encoded data removed]",
      "text/plain": [
       "<Figure size 432x288 with 6 Axes>"
      ]
     },
     "metadata": {
      "needs_background": "light"
     },
     "output_type": "display_data"
    }
   ],
   "source": [
    "#plt.hist(data)  \n",
    "#plt.xlabel('Intervals')  \n",
    "#plt.ylabel('Value')  \n",
    "#plt.title('Distribution of the variable x')  \n",
    "#plt.show()  \n",
    "data.hist(bins=20)"
   ]
  },
  {
   "cell_type": "code",
   "execution_count": 9,
   "id": "aa5b5422",
   "metadata": {},
   "outputs": [
    {
     "data": {
      "text/plain": [
       "array([[<AxesSubplot:title={'center':'G1'}>,\n",
       "        <AxesSubplot:title={'center':'G2'}>],\n",
       "       [<AxesSubplot:title={'center':'G3'}>,\n",
       "        <AxesSubplot:title={'center':'studytime'}>],\n",
       "       [<AxesSubplot:title={'center':'failures'}>,\n",
       "        <AxesSubplot:title={'center':'absences'}>]], dtype=object)"
      ]
     },
     "execution_count": 9,
     "metadata": {},
     "output_type": "execute_result"
    },
    {
     "data": {
      "image/png": "[encoded data removed]",
      "text/plain": [
       "<Figure size 432x288 with 6 Axes>"
      ]
     },
     "metadata": {
      "needs_background": "light"
     },
     "output_type": "display_data"
    }
   ],
   "source": [
    "data.hist(bins=10)"
   ]
  },
  {
   "cell_type": "code",
   "execution_count": 10,
   "id": "ae9b1d1d",
   "metadata": {},
   "outputs": [
    {
     "data": {
      "text/html": [
       "<div>\n",
       "<style scoped>\n",
       "    .dataframe tbody tr th:only-of-type {\n",
       "        vertical-align: middle;\n",
       "    }\n",
       "\n",
       "    .dataframe tbody tr th {\n",
       "        vertical-align: top;\n",
       "    }\n",
       "\n",
       "    .dataframe thead th {\n",
       "        text-align: right;\n",
       "    }\n",
       "</style>\n",
       "<table border=\"1\" class=\"dataframe\">\n",
       "  <thead>\n",
       "    <tr style=\"text-align: right;\">\n",
       "      <th></th>\n",
       "      <th>G1</th>\n",
       "      <th>G2</th>\n",
       "      <th>G3</th>\n",
       "      <th>studytime</th>\n",
       "      <th>failures</th>\n",
       "      <th>absences</th>\n",
       "    </tr>\n",
       "  </thead>\n",
       "  <tbody>\n",
       "    <tr>\n",
       "      <th>G1</th>\n",
       "      <td>1.000000</td>\n",
       "      <td>0.852118</td>\n",
       "      <td>0.801468</td>\n",
       "      <td>0.160612</td>\n",
       "      <td>-0.354718</td>\n",
       "      <td>-0.031003</td>\n",
       "    </tr>\n",
       "    <tr>\n",
       "      <th>G2</th>\n",
       "      <td>0.852118</td>\n",
       "      <td>1.000000</td>\n",
       "      <td>0.904868</td>\n",
       "      <td>0.135880</td>\n",
       "      <td>-0.355896</td>\n",
       "      <td>-0.031777</td>\n",
       "    </tr>\n",
       "    <tr>\n",
       "      <th>G3</th>\n",
       "      <td>0.801468</td>\n",
       "      <td>0.904868</td>\n",
       "      <td>1.000000</td>\n",
       "      <td>0.097820</td>\n",
       "      <td>-0.360415</td>\n",
       "      <td>0.034247</td>\n",
       "    </tr>\n",
       "    <tr>\n",
       "      <th>studytime</th>\n",
       "      <td>0.160612</td>\n",
       "      <td>0.135880</td>\n",
       "      <td>0.097820</td>\n",
       "      <td>1.000000</td>\n",
       "      <td>-0.173563</td>\n",
       "      <td>-0.062700</td>\n",
       "    </tr>\n",
       "    <tr>\n",
       "      <th>failures</th>\n",
       "      <td>-0.354718</td>\n",
       "      <td>-0.355896</td>\n",
       "      <td>-0.360415</td>\n",
       "      <td>-0.173563</td>\n",
       "      <td>1.000000</td>\n",
       "      <td>0.063726</td>\n",
       "    </tr>\n",
       "    <tr>\n",
       "      <th>absences</th>\n",
       "      <td>-0.031003</td>\n",
       "      <td>-0.031777</td>\n",
       "      <td>0.034247</td>\n",
       "      <td>-0.062700</td>\n",
       "      <td>0.063726</td>\n",
       "      <td>1.000000</td>\n",
       "    </tr>\n",
       "  </tbody>\n",
       "</table>\n",
       "</div>"
      ],
      "text/plain": [
       "                 G1        G2        G3  studytime  failures  absences\n",
       "G1         1.000000  0.852118  0.801468   0.160612 -0.354718 -0.031003\n",
       "G2         0.852118  1.000000  0.904868   0.135880 -0.355896 -0.031777\n",
       "G3         0.801468  0.904868  1.000000   0.097820 -0.360415  0.034247\n",
       "studytime  0.160612  0.135880  0.097820   1.000000 -0.173563 -0.062700\n",
       "failures  -0.354718 -0.355896 -0.360415  -0.173563  1.000000  0.063726\n",
       "absences  -0.031003 -0.031777  0.034247  -0.062700  0.063726  1.000000"
      ]
     },
     "execution_count": 10,
     "metadata": {},
     "output_type": "execute_result"
    }
   ],
   "source": [
    "data.corr()\n"
   ]
  },
  {
   "cell_type": "code",
   "execution_count": 11,
   "id": "b3b7159c",
   "metadata": {},
   "outputs": [
    {
     "name": "stdout",
     "output_type": "stream",
     "text": [
      "G1           0.801468\n",
      "G2           0.904868\n",
      "G3           1.000000\n",
      "studytime    0.097820\n",
      "failures    -0.360415\n",
      "absences     0.034247\n",
      "Name: G3, dtype: float64\n"
     ]
    }
   ],
   "source": [
    "data_corr=data.corr()['G3']\n",
    "print(data_corr)"
   ]
  },
  {
   "cell_type": "code",
   "execution_count": 12,
   "id": "731fb5c2",
   "metadata": {},
   "outputs": [
    {
     "data": {
      "text/plain": [
       "<AxesSubplot:>"
      ]
     },
     "execution_count": 12,
     "metadata": {},
     "output_type": "execute_result"
    },
    {
     "data": {
      "image/png": "[encoded data removed]",
      "text/plain": [
       "<Figure size 432x288 with 2 Axes>"
      ]
     },
     "metadata": {
      "needs_background": "light"
     },
     "output_type": "display_data"
    }
   ],
   "source": [
    "sns.heatmap(data.corr())\n"
   ]
  },
  {
   "cell_type": "code",
   "execution_count": 13,
   "id": "6d2c8b2f",
   "metadata": {},
   "outputs": [
    {
     "data": {
      "image/png": "[encoded data removed]",
      "text/plain": [
       "<Figure size 900x180 with 6 Axes>"
      ]
     },
     "metadata": {
      "needs_background": "light"
     },
     "output_type": "display_data"
    },
    {
     "data": {
      "image/png": "[encoded data removed]",
      "text/plain": [
       "<Figure size 180x180 with 1 Axes>"
      ]
     },
     "metadata": {
      "needs_background": "light"
     },
     "output_type": "display_data"
    }
   ],
   "source": [
    "for i in range(0,len(data.columns),5):\n",
    "    sns.pairplot(data,y_vars=['G3'], x_vars=data.columns[i:i+5])"
   ]
  },
  {
   "cell_type": "code",
   "execution_count": 14,
   "id": "d1bbd422",
   "metadata": {},
   "outputs": [
    {
     "data": {
      "text/plain": [
       "<AxesSubplot:xlabel='G1', ylabel='G3'>"
      ]
     },
     "execution_count": 14,
     "metadata": {},
     "output_type": "execute_result"
    },
    {
     "data": {
      "image/png": "[encoded data removed]",
      "text/plain": [
       "<Figure size 432x288 with 1 Axes>"
      ]
     },
     "metadata": {
      "needs_background": "light"
     },
     "output_type": "display_data"
    }
   ],
   "source": [
    "\n",
    "    sns.regplot(x='G1',y='G3',data=data)\n",
    "   \n",
    "    \n"
   ]
  },
  {
   "cell_type": "code",
   "execution_count": 15,
   "id": "e57850f0",
   "metadata": {},
   "outputs": [
    {
     "data": {
      "text/plain": [
       "<AxesSubplot:xlabel='G2', ylabel='G3'>"
      ]
     },
     "execution_count": 15,
     "metadata": {},
     "output_type": "execute_result"
    },
    {
     "data": {
      "image/png": "[encoded data removed]",
      "text/plain": [
       "<Figure size 432x288 with 1 Axes>"
      ]
     },
     "metadata": {
      "needs_background": "light"
     },
     "output_type": "display_data"
    }
   ],
   "source": [
    " sns.regplot(x='G2',y='G3',data=data)\n",
    "   "
   ]
  },
  {
   "cell_type": "code",
   "execution_count": 16,
   "id": "53a8e38a",
   "metadata": {},
   "outputs": [
    {
     "data": {
      "text/plain": [
       "<AxesSubplot:xlabel='studytime', ylabel='G3'>"
      ]
     },
     "execution_count": 16,
     "metadata": {},
     "output_type": "execute_result"
    },
    {
     "data": {
      "image/png": "[encoded data removed]",
      "text/plain": [
       "<Figure size 432x288 with 1 Axes>"
      ]
     },
     "metadata": {
      "needs_background": "light"
     },
     "output_type": "display_data"
    }
   ],
   "source": [
    " sns.regplot(x='studytime',y='G3',data=data)\n",
    "   "
   ]
  },
  {
   "cell_type": "code",
   "execution_count": 17,
   "id": "cbec4c94",
   "metadata": {},
   "outputs": [
    {
     "data": {
      "text/plain": [
       "<AxesSubplot:xlabel='absences', ylabel='G3'>"
      ]
     },
     "execution_count": 17,
     "metadata": {},
     "output_type": "execute_result"
    },
    {
     "data": {
      "image/png": "[encoded data removed]",
      "text/plain": [
       "<Figure size 432x288 with 1 Axes>"
      ]
     },
     "metadata": {
      "needs_background": "light"
     },
     "output_type": "display_data"
    }
   ],
   "source": [
    " sns.regplot(x='absences',y='G3',data=data)\n",
    "    "
   ]
  },
  {
   "cell_type": "code",
   "execution_count": 18,
   "id": "2077106d",
   "metadata": {},
   "outputs": [
    {
     "data": {
      "text/plain": [
       "<AxesSubplot:xlabel='failures', ylabel='G3'>"
      ]
     },
     "execution_count": 18,
     "metadata": {},
     "output_type": "execute_result"
    },
    {
     "data": {
      "image/png": "[encoded data removed]",
      "text/plain": [
       "<Figure size 432x288 with 1 Axes>"
      ]
     },
     "metadata": {
      "needs_background": "light"
     },
     "output_type": "display_data"
    }
   ],
   "source": [
    "sns.regplot(x='failures',y='G3',data=data)"
   ]
  },
  {
   "cell_type": "code",
   "execution_count": 19,
   "id": "0c72d470",
   "metadata": {},
   "outputs": [],
   "source": [
    "predict = \"G3\"\n",
    "X = np.array(data.drop([predict], 1)) # Features\n",
    "y = np.array(data[predict]) # Labels"
   ]
  },
  {
   "cell_type": "code",
   "execution_count": 20,
   "id": "df7f1719",
   "metadata": {},
   "outputs": [
    {
     "name": "stdout",
     "output_type": "stream",
     "text": [
      "[[ 5  6  2  0  6]\n",
      " [ 5  5  2  0  4]\n",
      " [ 7  8  2  3 10]\n",
      " ...\n",
      " [10  8  1  3  3]\n",
      " [11 12  1  0  0]\n",
      " [ 8  9  1  0  5]]\n",
      "[ 6  6 10 15 10 15 11  6 19 15  9 12 14 11 16 14 14 10  5 10 15 15 16 12\n",
      "  8  8 11 15 11 11 12 17 16 12 15  6 18 15 11 13 11 12 18 11  9  6 11 20\n",
      " 14  7 13 13 10 11 13 10 15 15  9 16 11 11  9  9 10 15 12  6  8 16 15 10\n",
      "  5 14 11 10 10 11 10  5 12 11  6 15 10  8  6 14 10  7  8 18  6 10 14 10\n",
      " 15 10 14  8  5 17 14  6 18 11  8 18 13 16 19 10 13 19  9 16 14 13  8 13\n",
      " 15 15 13 13  8 12 11  9  0 18  0  0 12 11  0  0  0  0 12 15  0  9 11 13\n",
      "  0 11  0 11  0 10  0 14 10  0 12  8 13 10 15 12  0  7  0 10  7 12 10 16\n",
      "  0 14  0 16 10  0  9  9 11  6  9 11  8 12 17  8 12 11 11 15  9 10 13  9\n",
      "  8 10 14 15 16 10 18 10 16 10 10  6 11  9  7 13 10  7  8 13 14  8 10 15\n",
      "  4  8  8 10  6  0 17 13 14  7 15 12  9 12 14 11  9 13  6 10 13 12 11  0\n",
      " 12 12  0 12  0 18 13  8  5 15  8 10  8  8 12  8 13 11 14  0 18  8 12  9\n",
      "  0 17 10 11 10  0  9 14 11 14 10 12  9  9  8 10  8 10 12 10 11 11 19 12\n",
      " 14 15 11 15 13 18 14 11  0  8 14 16 11 10 14 18 13 12 18  8 12 10  0 13\n",
      " 11 11 13 11  0  9 10 11 13  9 11 15 15 11 16 10  9 14  8 14  0  0  0 15\n",
      " 13  0 17 10 11  0 15  0 10 14 16  9 15 13  8 13  8  8 11  9 13 11 10 16\n",
      " 13 12 10 15 12 10 13  0 10 11  9 12 11  5 19 10 15 10 15 10 14  7 10  0\n",
      "  5 10  6  0  8  0  9 16  7 10  9]\n"
     ]
    }
   ],
   "source": [
    "print(X[:,:])\n",
    "print(y[:])"
   ]
  },
  {
   "cell_type": "code",
   "execution_count": 176,
   "id": "db111190",
   "metadata": {},
   "outputs": [
    {
     "data": {
      "image/png": "[encoded data removed]",
      "text/plain": [
       "<Figure size 432x288 with 1 Axes>"
      ]
     },
     "metadata": {
      "needs_background": "light"
     },
     "output_type": "display_data"
    },
    {
     "data": {
      "image/png": "[encoded data removed]",
      "text/plain": [
       "<Figure size 432x288 with 1 Axes>"
      ]
     },
     "metadata": {
      "needs_background": "light"
     },
     "output_type": "display_data"
    },
    {
     "data": {
      "image/png": "[encoded data removed]",
      "text/plain": [
       "<Figure size 432x288 with 1 Axes>"
      ]
     },
     "metadata": {
      "needs_background": "light"
     },
     "output_type": "display_data"
    },
    {
     "data": {
      "image/png": "[encoded data removed]",
      "text/plain": [
       "<Figure size 432x288 with 1 Axes>"
      ]
     },
     "metadata": {
      "needs_background": "light"
     },
     "output_type": "display_data"
    },
    {
     "data": {
      "image/png": "[encoded data removed]",
      "text/plain": [
       "<Figure size 432x288 with 1 Axes>"
      ]
     },
     "metadata": {
      "needs_background": "light"
     },
     "output_type": "display_data"
    }
   ],
   "source": [
    "sns.residplot(x = 'studytime',\n",
    "              y = 'G3',\n",
    "              data = data)\n",
    "plt.show()\n",
    "\n",
    "sns.residplot(x = 'failures',\n",
    "              y = 'G3',\n",
    "              data = data)\n",
    "plt.show()\n",
    "\n",
    "sns.residplot(x = 'absences',\n",
    "              y = 'G3',\n",
    "              data = data)\n",
    "plt.show()\n",
    "\n",
    "sns.residplot(x = 'G1',\n",
    "              y = 'G3',\n",
    "              data = data)\n",
    "plt.show()\n",
    "\n",
    "sns.residplot(x = 'G2',\n",
    "              y = 'G3',\n",
    "              data = data)\n",
    "plt.show()"
   ]
  },
  {
   "cell_type": "code",
   "execution_count": 46,
   "id": "9a1d6a5e",
   "metadata": {},
   "outputs": [],
   "source": [
    "x_train, x_test, y_train, y_test = sklearn.model_selection.train_test_split(X, y, test_size = 0.2)"
   ]
  },
  {
   "cell_type": "code",
   "execution_count": 47,
   "id": "556a877c",
   "metadata": {},
   "outputs": [
    {
     "data": {
      "text/plain": [
       "((316, 5), (79, 5), (316,), (79,))"
      ]
     },
     "execution_count": 47,
     "metadata": {},
     "output_type": "execute_result"
    }
   ],
   "source": [
    "x_train.shape, x_test.shape, y_train.shape, y_test.shape"
   ]
  },
  {
   "cell_type": "code",
   "execution_count": 48,
   "id": "bde0e2f6",
   "metadata": {
    "collapsed": true
   },
   "outputs": [
    {
     "name": "stdout",
     "output_type": "stream",
     "text": [
      "[[ 6 10  2  0  4]\n",
      " [ 9  8  2  1 16]\n",
      " [15 12  3  0  0]\n",
      " ...\n",
      " [14 14  1  0  4]\n",
      " [ 8  8  2  0  0]\n",
      " [12 11  2  0  2]]\n",
      "[10  7 14  9 18  0 15 10 14 10 14 11 13 12  8  8 10 18 13  9  9 13 12  9\n",
      "  0 14 10 12 12 10 12 19  0 10  8  6 18 11  9 10 14  0 13 15  0 16  0 16\n",
      "  9  9  8 14  6 11 14 10 15 10 10  0  5 13 13  0 11 11 16  9  9 12  5 10\n",
      "  8 14 10 10 11  0 16  6  5 11  0  6  0 15  0 18  0 20 13 16 13 12 12 10\n",
      "  7 10  6  7  0  0 10 11 11  8  8  9 10 14 10 11 10 15  9 10 15 11  6 14\n",
      " 12 15 12 11 10 10 11 14 10  4 12 16 13 11  6 13 11 11 15  9 11 14  8  5\n",
      "  8 15 14 12 10 15 13  0  8  7  5 10  9 11 11 12  0 12 12 15  8  8 18 12\n",
      " 12  0 18 11 18 14 14  6 16 12 13 13 12 11  0  9 13 17 13 10 16 10 18  0\n",
      "  6 14 17 11  8 13 12 15 10 14  0 17  0 11 10 14 10  9 11  0  5 16 11 13\n",
      "  9 11 11 18 11 12 15 16 11 12 15 15 10  0 12  9 15 13 19 15 13 15 13  0\n",
      " 10 11 14 14 18  0 15 15  7 12 13  8 17 10 11  9 13  8 15 10 11  8 15 15\n",
      "  6  8 11 14 10  9 19 12 11  9  0 11 15 13  0  9 11  0 10 14  8  9 18 10\n",
      " 15  8 10 16 17  8 13  8 15  9 11 10 12  9  6 10 15 10 18  6 16 15  8 10\n",
      " 11 14  0 12]\n",
      "[[ 8  7  2  0  4]\n",
      " [17 15  1  0  4]\n",
      " [ 5  8  2  3  0]\n",
      " [16 17  3  0  0]\n",
      " [13 14  1  0  0]\n",
      " [11  9  2  0 14]\n",
      " [16 15  2  0 11]\n",
      " [10 12  2  0 16]\n",
      " [ 7  8  4  0  8]\n",
      " [ 6  6  2  1 13]\n",
      " [ 9  9  2  2 11]\n",
      " [17 16  2  0  0]\n",
      " [16 15  2  0  0]\n",
      " [13 12  1  0  0]\n",
      " [14 15  2  0  2]\n",
      " [10 10  2  0  4]\n",
      " [ 8  7  2  3  8]\n",
      " [14 15  2  0  0]\n",
      " [ 8  7  1  1  7]\n",
      " [ 8  0  1  0  0]\n",
      " [14 14  1  0  2]\n",
      " [ 9  9  2  1  0]\n",
      " [ 8 10  1  0 12]\n",
      " [11 11  4  0  8]\n",
      " [ 6  6  2  0  2]\n",
      " [10 10  2  0  2]\n",
      " [ 6  0  1  0  0]\n",
      " [11 10  2  1 12]\n",
      " [ 8 10  1  0  4]\n",
      " [ 6  5  3  1  0]\n",
      " [14 13  1  0  8]\n",
      " [ 8  8  2  0  2]\n",
      " [ 8  9  1  0  8]\n",
      " [16 15  2  0 10]\n",
      " [ 8  8  2  0  0]\n",
      " [10  0  2  0  0]\n",
      " [ 5  6  2  0  6]\n",
      " [12 15  1  0  0]\n",
      " [10  8  2  0 10]\n",
      " [ 7  7  3  0  6]\n",
      " [ 7  4  1  2  0]\n",
      " [12 10  2  1 18]\n",
      " [15 14  2  0  8]\n",
      " [ 7  6  1  0  5]\n",
      " [10 13  1  0 12]\n",
      " [19 18  3  0  0]\n",
      " [10 10  1  0  2]\n",
      " [11 11  3  0  3]\n",
      " [ 9  9  2  0  6]\n",
      " [ 6  7  2  1 15]\n",
      " [12 12  2  0  0]\n",
      " [14 16  3  0  0]\n",
      " [12 12  1  0  2]\n",
      " [ 8  9  2  0  2]\n",
      " [11 13  2  0  2]\n",
      " [13 13  2  0  2]\n",
      " [11 10  1  0  8]\n",
      " [13 13  3  0  0]\n",
      " [18 19  1  0  6]\n",
      " [ 6  7  2  0  0]\n",
      " [ 7  8  2  3  2]\n",
      " [ 3  5  2  1  8]\n",
      " [ 7  7  2  3  5]\n",
      " [ 7  9  4  0  0]\n",
      " [10 10  2  0  0]\n",
      " [ 8  9  2  0  4]\n",
      " [14 13  2  0  2]\n",
      " [11 12  2  0 12]\n",
      " [13 13  2  0 14]\n",
      " [ 6  9  1  1  4]\n",
      " [14 12  2  0 20]\n",
      " [14 12  2  1  0]\n",
      " [15 12  2  1  0]\n",
      " [10 10  2  0  2]\n",
      " [ 8 11  2  0  0]\n",
      " [13 13  3  0  0]\n",
      " [11 11  2  0  2]\n",
      " [ 7  8  2  0 12]\n",
      " [11 11  2  0  2]]\n",
      "[ 6 16  7 17 13  9 15 11  8  8  9 16 15 12 15 10  8 16  8  0 13  0 10 10\n",
      "  6 10  0 10 10  0 13  8 10 15  9  0  6 15  8  7  0 10 14  7 12 19 10 11\n",
      " 10  8 11 16 11  8 14 13 10 14 19  0  9  5  7  0 10 10 13 11 14  8 13 12\n",
      " 12 11 11 13 11  8 11]\n"
     ]
    }
   ],
   "source": [
    "print(x_train[:,:])\n",
    "print(y_train[:])\n",
    "print(x_test[:,:])\n",
    "print(y_test[:])"
   ]
  },
  {
   "cell_type": "code",
   "execution_count": 49,
   "id": "df4d8c0a",
   "metadata": {},
   "outputs": [
    {
     "name": "stdout",
     "output_type": "stream",
     "text": [
      "Coefficient: \n",
      " [ 0.14831058  0.98064589 -0.13966959 -0.35358459  0.03192411]\n",
      "Intercept: \n",
      " -1.4975727033509987\n",
      "6.401790397511471 [8 7 2 0 4] 6\n",
      "15.721422306087911 [17 15  1  0  4] 16\n",
      "5.749054335292952 [5 8 2 3 0] 7\n",
      "17.12736789779572 [16 17  3  0  0] 17\n",
      "14.01983767048734 [13 14  1  0  0] 13\n",
      "9.127254969191291 [11  9  2  0 14] 9\n",
      "15.656910874943895 [16 15  2  0 11] 15\n",
      "11.984730253914416 [10 12  2  0 16] 11\n",
      "7.08248294778806 [7 8 4 0 8] 8\n",
      "5.058255704272762 [ 6  6  2  1 13] 8\n",
      "8.027692302361343 [ 9  9  2  2 11] 9\n",
      "16.434702182026733 [17 16  2  0  0] 16\n",
      "15.305745714644244 [16 15  2  0  0] 15\n",
      "12.05854589991632 [13 12  1  0  0] 12\n",
      "15.072972761413856 [14 15  2  0  2] 15\n",
      "9.64034921756196 [10 10  2  0  4] 10\n",
      "5.468733040152671 [8 7 2 3 8] 8\n",
      "15.009124550450286 [14 15  2  0  0] 16\n",
      "6.283647708281057 [8 7 1 1 7] 8\n",
      "-0.4507576339947017 [8 0 1 0 0] 0\n",
      "14.23199646354789 [14 14  1  0  2] 13\n",
      "8.03011173515701 [9 9 2 1 0] 0\n",
      "9.738790484641832 [ 8 10  1  0 12] 10\n",
      "10.617662932032509 [11 11  4  0  8] 10\n",
      "5.060675137068428 [6 6 2 0 2] 6\n",
      "9.576501006598388 [10 10  2  0  2] 10\n",
      "-0.7473787981886616 [6 0 1 0 0] 0\n",
      "9.690468050417914 [11 10  2  1 12] 10\n",
      "9.483397640787542 [ 8 10  1  0  4] 10\n",
      "3.522926860304488 [6 5 3 1 0] 0\n",
      "13.442895211153099 [14 13  1  0  8] 13\n",
      "7.318588071833409 [8 8 2 0 2] 8\n",
      "8.630448177429178 [8 9 1 0 8] 10\n",
      "15.624986769462106 [16 15  2  0 10] 15\n",
      "7.254739860869835 [8 8 2 0 0] 9\n",
      "-0.2938060572202845 [10  0  2  0  0] 0\n",
      "5.040060976898594 [5 6 2 0 6] 6\n",
      "14.852172973675868 [12 15  1  0  0] 15\n",
      "7.870602079881657 [10  8  2  0 10] 8\n",
      "6.17765843895852 [7 7 3 0 6] 7\n",
      "2.616346138859729 [7 4 1 2 0] 0\n",
      "10.030323265405611 [12 10  2  1 18] 10\n",
      "14.432182091116045 [15 14  2  0  8] 14\n",
      "5.444427623030309 [7 6 1 0 5] 7\n",
      "12.977349304692323 [10 13  1  0 12] 12\n",
      "18.552945529372174 [19 18  3  0  0] 19\n",
      "9.71617059401793 [10 10  1  0  2] 10\n",
      "10.597711992043122 [11 11  3  0  3] 11\n",
      "8.575240961143043 [9 9 2 0 6] 10\n",
      "6.102749800521844 [ 6  7  2  1 15] 8\n",
      "11.770565730399797 [12 12  2  0  0] 11\n",
      "15.850100848316254 [14 16  3  0  0] 16\n",
      "11.974083528782911 [12 12  1  0  2] 11\n",
      "8.299233957118918 [8 9 2 0 2] 8\n",
      "12.666749244551898 [11 13  2  0  2] 14\n",
      "12.963370408745858 [13 13  2  0  2] 13\n",
      "10.056025809005627 [11 10  1  0  8] 10\n",
      "12.759852610362744 [13 13  3  0  0] 14\n",
      "19.85616464029051 [18 19  1  0  6] 19\n",
      "5.977472811390366 [6 7 2 0 0] 0\n",
      "6.109523710450484 [7 8 2 3 2] 9\n",
      "3.4730575452873804 [3 5 2 1 8] 5\n",
      "5.224650141610333 [7 7 2 3 5] 7\n",
      "7.80773598921928 [7 9 4 0 0] 0\n",
      "9.512652795634816 [10 10  2  0  0] 10\n",
      "8.36308216808249 [8 9 2 0 4] 10\n",
      "13.111680990842839 [14 13  2  0  2] 13\n",
      "12.00534441408425 [11 12  2  0 12] 11\n",
      "13.346459674527292 [13 13  2  0 14] 14\n",
      "7.852545998212758 [6 9 1 1 4] 8\n",
      "12.70566900422948 [14 12  2  0 20] 13\n",
      "11.713602301498442 [14 12  2  1  0] 12\n",
      "11.861912883595421 [15 12  2  1  0] 12\n",
      "9.576501006598388 [10 10  2  0  2] 11\n",
      "10.196677516726366 [ 8 11  2  0  0] 11\n",
      "12.759852610362744 [13 13  3  0  0] 13\n",
      "10.705457473980877 [11 11  2  0  2] 11\n",
      "7.48951854455429 [ 7  8  2  0 12] 8\n",
      "10.705457473980877 [11 11  2  0  2] 11\n"
     ]
    }
   ],
   "source": [
    "linear = linear_model.LinearRegression()\n",
    "linear.fit(x_train, y_train)\n",
    "#acc = linear.score(x_test, y_test) \n",
    "#print(acc)\n",
    "print('Coefficient: \\n', linear.coef_) # These are each slope value\n",
    "print('Intercept: \\n', linear.intercept_) # This is the intercept\n",
    "\n",
    "predictions = linear.predict(x_test) # Gets a list of all predictions\n",
    "\n",
    "for x in range(len(predictions)):\n",
    "    print(predictions[x], x_test[x], y_test[x])"
   ]
  },
  {
   "cell_type": "code",
   "execution_count": 190,
   "id": "db165b9b",
   "metadata": {},
   "outputs": [
    {
     "name": "stdout",
     "output_type": "stream",
     "text": [
      "Evaluation for sklearn model\n",
      "\n",
      "Explained variance score:\n",
      "0.8393804224807258 \n",
      "\n",
      "Max error:\n",
      "8.03011173515701 \n",
      "\n",
      "Mean absolute error:\n",
      "1.0696972693843856 \n",
      "\n",
      "Mean squared error:\n",
      "3.223718782132511 \n",
      "\n",
      "Root mean squared error:\n",
      "1.7954717436185152 \n",
      "\n",
      "Median absolute error:\n",
      "0.6535403254727079 \n",
      "\n",
      "R² score:\n",
      "0.8392904471659957 \n",
      "\n",
      "Adjusted-R2 :  0.8282829435472282\n"
     ]
    }
   ],
   "source": [
    "print('Evaluation for sklearn model\\n')\n",
    "\n",
    "#Explained variance score\n",
    "print('Explained variance score:')\n",
    "print(explained_variance_score(y_test, predictions),'\\n')\n",
    "\n",
    "#max error\n",
    "print('Max error:')\n",
    "print(max_error(y_test, predictions),'\\n')\n",
    "\n",
    "#Mean absolute error\n",
    "print('Mean absolute error:')\n",
    "print(mean_absolute_error(y_test, predictions),'\\n')\n",
    "\n",
    "#Mean squared error\n",
    "print('Mean squared error:')\n",
    "print(mean_squared_error(y_test, predictions),'\\n')\n",
    "\n",
    "#Root mean squared error\n",
    "print('Root mean squared error:')\n",
    "print(mean_squared_error(y_test, predictions, squared=False),'\\n')\n",
    "\n",
    "#Median absolute error\n",
    "print('Median absolute error:')\n",
    "print(median_absolute_error(y_test, predictions),'\\n')\n",
    "\n",
    "\n",
    "#R² score\n",
    "print('R² score:')\n",
    "print(r2_score(y_test, predictions),'\\n')\n",
    "\n",
    "#Adjusted-R2\n",
    "r2 = r2_score(y_test, predictions)\n",
    "N=79\n",
    "p=5\n",
    "x = (1-r2)\n",
    "y = (N-1) / (N-p-1)\n",
    "adj_rsquared = (1 - (x * y))\n",
    "print(\"Adjusted-R2 : \" , adj_rsquared)\n"
   ]
  },
  {
   "cell_type": "code",
   "execution_count": 182,
   "id": "a93d2875",
   "metadata": {},
   "outputs": [],
   "source": [
    "\n",
    "def initialize_parameters(lenw):\n",
    "    w=np.zeros((1,lenw))\n",
    "    b=0\n",
    "    return w,b\n"
   ]
  },
  {
   "cell_type": "code",
   "execution_count": 75,
   "id": "491d38d6",
   "metadata": {},
   "outputs": [],
   "source": [
    "def straight_line(x,w,b):\n",
    "    z=np.dot(w,x)+b\n",
    "    return z"
   ]
  },
  {
   "cell_type": "code",
   "execution_count": 122,
   "id": "1e2a44ec",
   "metadata": {},
   "outputs": [],
   "source": [
    "def cost_function1(z,y):\n",
    "    m=y.shape[1]\n",
    "    J=(1/(2*m))*np.sum(np.square(z-y))\n",
    "    return J"
   ]
  },
  {
   "cell_type": "code",
   "execution_count": 123,
   "id": "f92e96a2",
   "metadata": {},
   "outputs": [],
   "source": [
    "def cost_function2(z,y):\n",
    "    m=y.shape[1]\n",
    "    J=(1/m)*np.sum(np.square(z-y))\n",
    "    return J"
   ]
  },
  {
   "cell_type": "code",
   "execution_count": 124,
   "id": "49d1aba7",
   "metadata": {},
   "outputs": [],
   "source": [
    "def cost_function3(z,y):\n",
    "    m=y.shape[1]\n",
    "    J=(1/2)*np.sum(np.square(z-y))\n",
    "    return J"
   ]
  },
  {
   "cell_type": "code",
   "execution_count": 77,
   "id": "b1284422",
   "metadata": {},
   "outputs": [],
   "source": [
    "def gradient(x,y,z):\n",
    "    m=y.shape[1]\n",
    "    dz=(1/m)*(z-y)\n",
    "    dw=np.dot(dz,x.T)#dw-->1xn\n",
    "    db=np.sum(dz)\n",
    "    return dw,db\n",
    "    "
   ]
  },
  {
   "cell_type": "code",
   "execution_count": 78,
   "id": "14b40119",
   "metadata": {},
   "outputs": [],
   "source": [
    "def update(w,b,dw,db,learning_rate):\n",
    "    w=w-learning_rate*dw\n",
    "    b=b-learning_rate*db\n",
    "    return w,b"
   ]
  },
  {
   "cell_type": "code",
   "execution_count": 121,
   "id": "fac3a04e",
   "metadata": {},
   "outputs": [],
   "source": [
    "def model1(x_trainT,y_trainT,learning_rate,iterations):  #cost = (1/(2*m))*np.sum(np.square(y_pred - Y))\n",
    "    lenw=x_trainT.shape[0]\n",
    "    w,b=initialize_parameters(lenw) #1\n",
    "    \n",
    "    costs_train=[]\n",
    "    \n",
    "    for i in range(iterations):\n",
    "        z_train=straight_line(x_trainT,w,b)#2\n",
    "        cost_train= cost_function1(z_train,y_trainT)#3\n",
    "        dw,db=gradient(x_trainT,y_trainT,z_train)#4\n",
    "        w,b=update(w,b,dw,db,learning_rate)#5\n",
    "        \n",
    "        costs_train.append(cost_train)\n",
    "        \n",
    "        # to print the cost for 10 times\n",
    "        if(i%(iteration/10) == 0):\n",
    "            print(\"Cost is :\", cost_train)\n",
    "\n",
    "        \n",
    "\n",
    "        \n",
    "    return w,b,costs_train\n",
    "    "
   ]
  },
  {
   "cell_type": "code",
   "execution_count": 119,
   "id": "c2fa6b36",
   "metadata": {},
   "outputs": [],
   "source": [
    "def model2(x_trainT,y_trainT,learning_rate,iterations):#cost = (1/m)*np.sum(np.square(y_pred - Y))\n",
    "    lenw=x_trainT.shape[0]\n",
    "    w,b=initialize_parameters(lenw) #1\n",
    "    \n",
    "    costs_train=[]\n",
    "    \n",
    "    for i in range(iterations):\n",
    "        z_train=straight_line(x_trainT,w,b)#2\n",
    "        cost_train= cost_function2(z_train,y_trainT)#3\n",
    "        dw,db=gradient(x_trainT,y_trainT,z_train)#4\n",
    "        w,b=update(w,b,dw,db,learning_rate)#5\n",
    "        \n",
    "        costs_train.append(cost_train)\n",
    "        \n",
    "        # to print the cost for 10 times\n",
    "        if(i%(iteration/10) == 0):\n",
    "            print(\"Cost is :\", cost_train)\n",
    "\n",
    "        \n",
    "\n",
    "        \n",
    "    return w,b,costs_train\n",
    "    "
   ]
  },
  {
   "cell_type": "code",
   "execution_count": 118,
   "id": "be29f58e",
   "metadata": {},
   "outputs": [],
   "source": [
    "def model3(x_trainT,y_trainT,learning_rate,iterations):   #cost = (1/2)*np.sum(np.square(y_pred - Y))\n",
    "    lenw=x_trainT.shape[0]\n",
    "    w,b=initialize_parameters(lenw) #1\n",
    "    \n",
    "    costs_train=[]\n",
    "    \n",
    "    for i in range(iterations):\n",
    "        z_train=straight_line(x_trainT,w,b)#2\n",
    "        cost_train= cost_function3(z_train,y_trainT)#3\n",
    "        dw,db=gradient(x_trainT,y_trainT,z_train)#4\n",
    "        w,b=update(w,b,dw,db,learning_rate)#5\n",
    "        \n",
    "        costs_train.append(cost_train)\n",
    "        \n",
    "        # to print the cost for 10 times\n",
    "        if(i%(iteration/10) == 0):\n",
    "            print(\"Cost is :\", cost_train)\n",
    "\n",
    "        \n",
    "\n",
    "        \n",
    "    return w,b,costs_train\n",
    "    "
   ]
  },
  {
   "cell_type": "code",
   "execution_count": 57,
   "id": "ce348377",
   "metadata": {},
   "outputs": [],
   "source": [
    "x_trainT=x_train.T"
   ]
  },
  {
   "cell_type": "code",
   "execution_count": 58,
   "id": "60c543fb",
   "metadata": {},
   "outputs": [
    {
     "data": {
      "text/plain": [
       "(5, 316)"
      ]
     },
     "execution_count": 58,
     "metadata": {},
     "output_type": "execute_result"
    }
   ],
   "source": [
    "x_trainT.shape"
   ]
  },
  {
   "cell_type": "code",
   "execution_count": 59,
   "id": "fea75396",
   "metadata": {},
   "outputs": [],
   "source": [
    "y_trainT=np.array([y_train])"
   ]
  },
  {
   "cell_type": "code",
   "execution_count": 60,
   "id": "fc2bbb7c",
   "metadata": {},
   "outputs": [
    {
     "data": {
      "text/plain": [
       "(1, 316)"
      ]
     },
     "execution_count": 60,
     "metadata": {},
     "output_type": "execute_result"
    }
   ],
   "source": [
    "y_trainT.shape"
   ]
  },
  {
   "cell_type": "code",
   "execution_count": 61,
   "id": "daf5cbc9",
   "metadata": {},
   "outputs": [],
   "source": [
    "x_testT=x_test.T"
   ]
  },
  {
   "cell_type": "code",
   "execution_count": 62,
   "id": "1bafffca",
   "metadata": {},
   "outputs": [
    {
     "data": {
      "text/plain": [
       "(5, 79)"
      ]
     },
     "execution_count": 62,
     "metadata": {},
     "output_type": "execute_result"
    }
   ],
   "source": [
    "x_testT.shape"
   ]
  },
  {
   "cell_type": "code",
   "execution_count": 63,
   "id": "3a3cbda1",
   "metadata": {},
   "outputs": [],
   "source": [
    "y_testT=np.array([y_test])"
   ]
  },
  {
   "cell_type": "code",
   "execution_count": 64,
   "id": "277157de",
   "metadata": {},
   "outputs": [
    {
     "data": {
      "text/plain": [
       "(1, 79)"
      ]
     },
     "execution_count": 64,
     "metadata": {},
     "output_type": "execute_result"
    }
   ],
   "source": [
    "y_testT.shape"
   ]
  },
  {
   "cell_type": "code",
   "execution_count": 125,
   "id": "d338a791",
   "metadata": {},
   "outputs": [
    {
     "name": "stdout",
     "output_type": "stream",
     "text": [
      "Cost is : 66.03322784810126\n",
      "Cost is : 2.381391356168956\n",
      "Cost is : 2.2372122688100693\n",
      "Cost is : 2.137910766281964\n",
      "Cost is : 2.069070732292876\n",
      "Cost is : 2.0209633109725065\n",
      "Cost is : 1.987013748592603\n",
      "Cost is : 1.9627725870018327\n",
      "Cost is : 1.9452232914955947\n",
      "Cost is : 1.9323161727401292\n"
     ]
    },
    {
     "data": {
      "image/png": "[encoded data removed]",
      "text/plain": [
       "<Figure size 432x288 with 1 Axes>"
      ]
     },
     "metadata": {
      "needs_background": "light"
     },
     "output_type": "display_data"
    }
   ],
   "source": [
    "#cost = (1/(2*m))*np.sum(np.square(y_pred - Y)) and learning rate=0.0001\n",
    "iteration = 10000\n",
    "learning_rate = 0.0001\n",
    "w1,b1,costs_train1 = model1(x_trainT, y_trainT, learning_rate = learning_rate, iterations =\n",
    "iteration)\n",
    "\n",
    "#print(w.shape)\n",
    "#print(b)\n",
    "\n",
    "#rng = np.arange(0, iteration)\n",
    "plt.plot(costs_train1)\n",
    "plt.xlabel('iterations')\n",
    "plt.ylabel('Cost')\n",
    "plt.title('learning rate=0.0001')\n",
    "plt.show()\n",
    "#plt.plot(rng, costs_train)\n"
   ]
  },
  {
   "cell_type": "code",
   "execution_count": 151,
   "id": "42d8e7f2",
   "metadata": {},
   "outputs": [
    {
     "name": "stdout",
     "output_type": "stream",
     "text": [
      "Cost is : 66.03322784810126\n",
      "Cost is : 1.9226035722319392\n",
      "Cost is : 1.8885291869969016\n",
      "Cost is : 1.8796508294286927\n",
      "Cost is : 1.8750203931247817\n",
      "Cost is : 1.871735644208808\n",
      "Cost is : 1.8690196254022267\n",
      "Cost is : 1.8666295812726335\n",
      "Cost is : 1.8644781901929106\n",
      "Cost is : 1.8625261712230123\n"
     ]
    },
    {
     "data": {
      "image/png": "[encoded data removed]",
      "text/plain": [
       "<Figure size 432x288 with 1 Axes>"
      ]
     },
     "metadata": {
      "needs_background": "light"
     },
     "output_type": "display_data"
    }
   ],
   "source": [
    "#cost = (1/(2*m))*np.sum(np.square(y_pred - Y)) and learning rate=0.001\n",
    "iteration = 10000\n",
    "learning_rate = 0.001\n",
    "w2,b2,costs_train2 = model1(x_trainT, y_trainT, learning_rate = learning_rate, iterations =\n",
    "iteration)\n",
    "\n",
    "#print(w.shape)\n",
    "#print(b)\n",
    "\n",
    "#rng = np.arange(0, iteration)\n",
    "plt.plot(costs_train2)\n",
    "plt.xlabel('iterations')\n",
    "plt.ylabel('Cost')\n",
    "plt.title('learning rate=0.001')\n",
    "plt.show()\n",
    "#plt.plot(rng, costs_train)"
   ]
  },
  {
   "cell_type": "code",
   "execution_count": 127,
   "id": "48abb96d",
   "metadata": {},
   "outputs": [
    {
     "name": "stdout",
     "output_type": "stream",
     "text": [
      "Cost is : 66.03322784810126\n"
     ]
    },
    {
     "name": "stderr",
     "output_type": "stream",
     "text": [
      "C:\\Anaconda\\lib\\site-packages\\numpy\\core\\fromnumeric.py:87: RuntimeWarning: overflow encountered in reduce\n",
      "  return ufunc.reduce(obj, axis, dtype, out, **passkwargs)\n",
      "<ipython-input-122-8854b628dfa0>:3: RuntimeWarning: overflow encountered in square\n",
      "  J=(1/(2*m))*np.sum(np.square(z-y))\n"
     ]
    },
    {
     "name": "stdout",
     "output_type": "stream",
     "text": [
      "Cost is : nan\n",
      "Cost is : nan\n",
      "Cost is : nan\n",
      "Cost is : nan\n",
      "Cost is : nan\n",
      "Cost is : nan\n",
      "Cost is : nan\n",
      "Cost is : nan\n",
      "Cost is : nan\n"
     ]
    },
    {
     "data": {
      "image/png": "[encoded data removed]",
      "text/plain": [
       "<Figure size 432x288 with 1 Axes>"
      ]
     },
     "metadata": {
      "needs_background": "light"
     },
     "output_type": "display_data"
    }
   ],
   "source": [
    "#cost = (1/(2*m))*np.sum(np.square(y_pred - Y)) and learning rate=0.01\n",
    "iteration = 10000\n",
    "learning_rate = 0.01\n",
    "w3,b3,costs_train3 = model1(x_trainT, y_trainT, learning_rate = learning_rate, iterations =\n",
    "iteration)\n",
    "\n",
    "#print(w.shape)\n",
    "#print(b)\n",
    "\n",
    "#rng = np.arange(0, iteration)\n",
    "plt.plot(costs_train3)\n",
    "plt.xlabel('iterations')\n",
    "plt.ylabel('Cost')\n",
    "plt.title('learning rate=0.01')\n",
    "plt.show()\n",
    "#plt.plot(rng, costs_train)"
   ]
  },
  {
   "cell_type": "code",
   "execution_count": 128,
   "id": "8d7e3867",
   "metadata": {},
   "outputs": [
    {
     "name": "stdout",
     "output_type": "stream",
     "text": [
      "Cost is : 66.03322784810126\n",
      "Cost is : nan\n"
     ]
    },
    {
     "name": "stderr",
     "output_type": "stream",
     "text": [
      "<ipython-input-122-8854b628dfa0>:3: RuntimeWarning: overflow encountered in square\n",
      "  J=(1/(2*m))*np.sum(np.square(z-y))\n"
     ]
    },
    {
     "name": "stdout",
     "output_type": "stream",
     "text": [
      "Cost is : nan\n",
      "Cost is : nan\n",
      "Cost is : nan\n",
      "Cost is : nan\n",
      "Cost is : nan\n",
      "Cost is : nan\n",
      "Cost is : nan\n",
      "Cost is : nan\n"
     ]
    },
    {
     "data": {
      "image/png": "[encoded data removed]",
      "text/plain": [
       "<Figure size 432x288 with 1 Axes>"
      ]
     },
     "metadata": {
      "needs_background": "light"
     },
     "output_type": "display_data"
    }
   ],
   "source": [
    "#cost = (1/(2*m))*np.sum(np.square(y_pred - Y)) and learning rate=0.1\n",
    "iteration = 10000\n",
    "learning_rate = 0.1\n",
    "w4,b4,costs_train4 = model1(x_trainT, y_trainT, learning_rate = learning_rate, iterations =\n",
    "iteration)\n",
    "\n",
    "#print(w.shape)\n",
    "#print(b)\n",
    "\n",
    "#rng = np.arange(0, iteration)\n",
    "plt.plot(costs_train4)\n",
    "plt.xlabel('iterations')\n",
    "plt.ylabel('Cost')\n",
    "plt.title('learning rate=0.1')\n",
    "plt.show()\n",
    "#plt.plot(rng, costs_train)"
   ]
  },
  {
   "cell_type": "code",
   "execution_count": 129,
   "id": "466cbd0f",
   "metadata": {},
   "outputs": [
    {
     "name": "stdout",
     "output_type": "stream",
     "text": [
      "Cost is : 66.03322784810126\n",
      "Cost is : nan\n"
     ]
    },
    {
     "name": "stderr",
     "output_type": "stream",
     "text": [
      "<ipython-input-122-8854b628dfa0>:3: RuntimeWarning: overflow encountered in square\n",
      "  J=(1/(2*m))*np.sum(np.square(z-y))\n"
     ]
    },
    {
     "name": "stdout",
     "output_type": "stream",
     "text": [
      "Cost is : nan\n",
      "Cost is : nan\n",
      "Cost is : nan\n",
      "Cost is : nan\n",
      "Cost is : nan\n",
      "Cost is : nan\n",
      "Cost is : nan\n",
      "Cost is : nan\n"
     ]
    },
    {
     "data": {
      "image/png": "[encoded data removed]",
      "text/plain": [
       "<Figure size 432x288 with 1 Axes>"
      ]
     },
     "metadata": {
      "needs_background": "light"
     },
     "output_type": "display_data"
    }
   ],
   "source": [
    "#cost = (1/(2*m))*np.sum(np.square(y_pred - Y)) and learning rate=1\n",
    "iteration = 10000\n",
    "learning_rate =1\n",
    "w5,b5,costs_train5 = model1(x_trainT, y_trainT, learning_rate = learning_rate, iterations =\n",
    "iteration)\n",
    "\n",
    "#print(w.shape)\n",
    "#print(b)\n",
    "\n",
    "#rng = np.arange(0, iteration)\n",
    "plt.plot(costs_train5)\n",
    "plt.xlabel('iterations')\n",
    "plt.ylabel('Cost')\n",
    "plt.title('learning rate= 1')\n",
    "plt.show()\n",
    "#plt.plot(rng, costs_train)"
   ]
  },
  {
   "cell_type": "code",
   "execution_count": 130,
   "id": "e8694d8d",
   "metadata": {},
   "outputs": [
    {
     "name": "stdout",
     "output_type": "stream",
     "text": [
      "Cost is : 66.03322784810126\n",
      "Cost is : nan\n"
     ]
    },
    {
     "name": "stderr",
     "output_type": "stream",
     "text": [
      "<ipython-input-122-8854b628dfa0>:3: RuntimeWarning: overflow encountered in square\n",
      "  J=(1/(2*m))*np.sum(np.square(z-y))\n"
     ]
    },
    {
     "name": "stdout",
     "output_type": "stream",
     "text": [
      "Cost is : nan\n",
      "Cost is : nan\n",
      "Cost is : nan\n",
      "Cost is : nan\n",
      "Cost is : nan\n",
      "Cost is : nan\n",
      "Cost is : nan\n",
      "Cost is : nan\n"
     ]
    },
    {
     "data": {
      "image/png": "[encoded data removed]",
      "text/plain": [
       "<Figure size 432x288 with 1 Axes>"
      ]
     },
     "metadata": {
      "needs_background": "light"
     },
     "output_type": "display_data"
    }
   ],
   "source": [
    "#cost = (1/(2*m))*np.sum(np.square(y_pred - Y)) and learning rate=10\n",
    "iteration = 10000\n",
    "learning_rate =10\n",
    "w6,b6,costs_train6 = model1(x_trainT, y_trainT, learning_rate = learning_rate, iterations =\n",
    "iteration)\n",
    "\n",
    "#print(w.shape)\n",
    "#print(b)\n",
    "\n",
    "#rng = np.arange(0, iteration)\n",
    "plt.plot(costs_train6)\n",
    "plt.xlabel('iterations')\n",
    "plt.ylabel('Cost')\n",
    "plt.title('learning rate= 10')\n",
    "plt.show()\n",
    "#plt.plot(rng, costs_train)"
   ]
  },
  {
   "cell_type": "code",
   "execution_count": 131,
   "id": "54db4f48",
   "metadata": {},
   "outputs": [
    {
     "name": "stdout",
     "output_type": "stream",
     "text": [
      "Cost is : 66.03322784810126\n",
      "Cost is : nan\n"
     ]
    },
    {
     "name": "stderr",
     "output_type": "stream",
     "text": [
      "<ipython-input-122-8854b628dfa0>:3: RuntimeWarning: overflow encountered in square\n",
      "  J=(1/(2*m))*np.sum(np.square(z-y))\n",
      "<ipython-input-78-38d1673ecc85>:2: RuntimeWarning: overflow encountered in multiply\n",
      "  w=w-learning_rate*dw\n",
      "<ipython-input-78-38d1673ecc85>:3: RuntimeWarning: overflow encountered in double_scalars\n",
      "  b=b-learning_rate*db\n"
     ]
    },
    {
     "name": "stdout",
     "output_type": "stream",
     "text": [
      "Cost is : nan\n",
      "Cost is : nan\n",
      "Cost is : nan\n",
      "Cost is : nan\n",
      "Cost is : nan\n",
      "Cost is : nan\n",
      "Cost is : nan\n",
      "Cost is : nan\n"
     ]
    },
    {
     "data": {
      "image/png": "[encoded data removed]",
      "text/plain": [
       "<Figure size 432x288 with 1 Axes>"
      ]
     },
     "metadata": {
      "needs_background": "light"
     },
     "output_type": "display_data"
    }
   ],
   "source": [
    "#cost = (1/(2*m))*np.sum(np.square(y_pred - Y)) and learning rate=100\n",
    "iteration = 10000\n",
    "learning_rate =100\n",
    "w7,b7,costs_train7 = model1(x_trainT, y_trainT, learning_rate = learning_rate, iterations =\n",
    "iteration)\n",
    "\n",
    "#print(w.shape)\n",
    "#print(b)\n",
    "\n",
    "#rng = np.arange(0, iteration)\n",
    "plt.plot(costs_train7)\n",
    "plt.xlabel('iterations')\n",
    "plt.ylabel('Cost')\n",
    "plt.title('learning rate= 100')\n",
    "plt.show()\n",
    "#plt.plot(rng, costs_train)"
   ]
  },
  {
   "cell_type": "code",
   "execution_count": 132,
   "id": "55a0362c",
   "metadata": {},
   "outputs": [
    {
     "name": "stdout",
     "output_type": "stream",
     "text": [
      "Cost is : 132.06645569620252\n",
      "Cost is : 4.762782712337912\n",
      "Cost is : 4.474424537620139\n",
      "Cost is : 4.275821532563928\n",
      "Cost is : 4.138141464585752\n",
      "Cost is : 4.041926621945013\n",
      "Cost is : 3.974027497185206\n",
      "Cost is : 3.9255451740036653\n",
      "Cost is : 3.8904465829911894\n",
      "Cost is : 3.8646323454802585\n"
     ]
    },
    {
     "data": {
      "image/png": "[encoded data removed]",
      "text/plain": [
       "<Figure size 432x288 with 1 Axes>"
      ]
     },
     "metadata": {
      "needs_background": "light"
     },
     "output_type": "display_data"
    }
   ],
   "source": [
    "#cost = (1/m)*np.sum(np.square(y_pred - Y)) and learning rate=0.0001\n",
    "iteration = 10000\n",
    "learning_rate = 0.0001\n",
    "w11,b11,costs_train11 = model2(x_trainT, y_trainT, learning_rate = learning_rate, iterations =\n",
    "iteration)\n",
    "\n",
    "#print(w.shape)\n",
    "#print(b)\n",
    "\n",
    "#rng = np.arange(0, iteration)\n",
    "plt.plot(costs_train11)\n",
    "plt.xlabel('iterations')\n",
    "plt.ylabel('Cost')\n",
    "plt.title('learning rate=0.0001')\n",
    "plt.show()\n",
    "#plt.plot(rng, costs_train)"
   ]
  },
  {
   "cell_type": "code",
   "execution_count": 133,
   "id": "2277ab9d",
   "metadata": {},
   "outputs": [
    {
     "name": "stdout",
     "output_type": "stream",
     "text": [
      "Cost is : 132.06645569620252\n",
      "Cost is : 3.8452071444638785\n",
      "Cost is : 3.7770583739938033\n",
      "Cost is : 3.7593016588573853\n",
      "Cost is : 3.7500407862495635\n",
      "Cost is : 3.743471288417616\n",
      "Cost is : 3.7380392508044533\n",
      "Cost is : 3.733259162545267\n",
      "Cost is : 3.7289563803858212\n",
      "Cost is : 3.7250523424460247\n"
     ]
    },
    {
     "data": {
      "image/png": "[encoded data removed]",
      "text/plain": [
       "<Figure size 432x288 with 1 Axes>"
      ]
     },
     "metadata": {
      "needs_background": "light"
     },
     "output_type": "display_data"
    }
   ],
   "source": [
    "#cost = (1/m)*np.sum(np.square(y_pred - Y)) and learning rate=0.001\n",
    "iteration = 10000\n",
    "learning_rate = 0.001\n",
    "w22,b22,costs_train22 = model2(x_trainT, y_trainT, learning_rate = learning_rate, iterations =\n",
    "iteration)\n",
    "\n",
    "#print(w.shape)\n",
    "#print(b)\n",
    "\n",
    "#rng = np.arange(0, iteration)\n",
    "plt.plot(costs_train22)\n",
    "plt.xlabel('iterations')\n",
    "plt.ylabel('Cost')\n",
    "plt.title('learning rate=0.001')\n",
    "plt.show()\n",
    "#plt.plot(rng, costs_train)"
   ]
  },
  {
   "cell_type": "code",
   "execution_count": 134,
   "id": "56bd2ec0",
   "metadata": {},
   "outputs": [
    {
     "name": "stdout",
     "output_type": "stream",
     "text": [
      "Cost is : 132.06645569620252\n",
      "Cost is : nan\n"
     ]
    },
    {
     "name": "stderr",
     "output_type": "stream",
     "text": [
      "<ipython-input-123-6045ea03e090>:3: RuntimeWarning: overflow encountered in square\n",
      "  J=(1/m)*np.sum(np.square(z-y))\n"
     ]
    },
    {
     "name": "stdout",
     "output_type": "stream",
     "text": [
      "Cost is : nan\n",
      "Cost is : nan\n",
      "Cost is : nan\n",
      "Cost is : nan\n",
      "Cost is : nan\n",
      "Cost is : nan\n",
      "Cost is : nan\n",
      "Cost is : nan\n"
     ]
    },
    {
     "data": {
      "image/png": "[encoded data removed]",
      "text/plain": [
       "<Figure size 432x288 with 1 Axes>"
      ]
     },
     "metadata": {
      "needs_background": "light"
     },
     "output_type": "display_data"
    }
   ],
   "source": [
    "#cost = (1/m)*np.sum(np.square(y_pred - Y)) and learning rate=0.01\n",
    "iteration = 10000\n",
    "learning_rate = 0.01\n",
    "w33,b33,costs_train33 = model2(x_trainT, y_trainT, learning_rate = learning_rate, iterations =\n",
    "iteration)\n",
    "\n",
    "#print(w.shape)\n",
    "#print(b)\n",
    "\n",
    "#rng = np.arange(0, iteration)\n",
    "plt.plot(costs_train33)\n",
    "plt.xlabel('iterations')\n",
    "plt.ylabel('Cost')\n",
    "plt.title('learning rate=0.01')\n",
    "plt.show()\n",
    "#plt.plot(rng, costs_train)"
   ]
  },
  {
   "cell_type": "code",
   "execution_count": 135,
   "id": "cea49402",
   "metadata": {},
   "outputs": [
    {
     "name": "stdout",
     "output_type": "stream",
     "text": [
      "Cost is : 132.06645569620252\n",
      "Cost is : nan\n"
     ]
    },
    {
     "name": "stderr",
     "output_type": "stream",
     "text": [
      "<ipython-input-123-6045ea03e090>:3: RuntimeWarning: overflow encountered in square\n",
      "  J=(1/m)*np.sum(np.square(z-y))\n"
     ]
    },
    {
     "name": "stdout",
     "output_type": "stream",
     "text": [
      "Cost is : nan\n",
      "Cost is : nan\n",
      "Cost is : nan\n",
      "Cost is : nan\n",
      "Cost is : nan\n",
      "Cost is : nan\n",
      "Cost is : nan\n",
      "Cost is : nan\n"
     ]
    },
    {
     "data": {
      "image/png": "[encoded data removed]",
      "text/plain": [
       "<Figure size 432x288 with 1 Axes>"
      ]
     },
     "metadata": {
      "needs_background": "light"
     },
     "output_type": "display_data"
    }
   ],
   "source": [
    "#cost = (1/m)*np.sum(np.square(y_pred - Y)) and learning rate=0.1\n",
    "iteration = 10000\n",
    "learning_rate = 0.1\n",
    "w44,b44,costs_train44 = model2(x_trainT, y_trainT, learning_rate = learning_rate, iterations =\n",
    "iteration)\n",
    "\n",
    "#print(w.shape)\n",
    "#print(b)\n",
    "\n",
    "#rng = np.arange(0, iteration)\n",
    "plt.plot(costs_train44)\n",
    "plt.xlabel('iterations')\n",
    "plt.ylabel('Cost')\n",
    "plt.title('learning rate=0.1')\n",
    "plt.show()\n",
    "#plt.plot(rng, costs_train)"
   ]
  },
  {
   "cell_type": "code",
   "execution_count": 136,
   "id": "f64a2fad",
   "metadata": {},
   "outputs": [
    {
     "name": "stdout",
     "output_type": "stream",
     "text": [
      "Cost is : 132.06645569620252\n",
      "Cost is : nan\n"
     ]
    },
    {
     "name": "stderr",
     "output_type": "stream",
     "text": [
      "<ipython-input-123-6045ea03e090>:3: RuntimeWarning: overflow encountered in square\n",
      "  J=(1/m)*np.sum(np.square(z-y))\n"
     ]
    },
    {
     "name": "stdout",
     "output_type": "stream",
     "text": [
      "Cost is : nan\n",
      "Cost is : nan\n",
      "Cost is : nan\n",
      "Cost is : nan\n",
      "Cost is : nan\n",
      "Cost is : nan\n",
      "Cost is : nan\n",
      "Cost is : nan\n"
     ]
    },
    {
     "data": {
      "image/png": "[encoded data removed]",
      "text/plain": [
       "<Figure size 432x288 with 1 Axes>"
      ]
     },
     "metadata": {
      "needs_background": "light"
     },
     "output_type": "display_data"
    }
   ],
   "source": [
    "#cost = (1/m)*np.sum(np.square(y_pred - Y)) and learning rate=1\n",
    "iteration = 10000\n",
    "learning_rate =1\n",
    "w55,b55,costs_train55 = model2(x_trainT, y_trainT, learning_rate = learning_rate, iterations =\n",
    "iteration)\n",
    "\n",
    "#print(w.shape)\n",
    "#print(b)\n",
    "\n",
    "#rng = np.arange(0, iteration)\n",
    "plt.plot(costs_train55)\n",
    "plt.xlabel('iterations')\n",
    "plt.ylabel('Cost')\n",
    "plt.title('learning rate= 1')\n",
    "plt.show()\n",
    "#plt.plot(rng, costs_train)"
   ]
  },
  {
   "cell_type": "code",
   "execution_count": 137,
   "id": "7585429b",
   "metadata": {},
   "outputs": [
    {
     "name": "stdout",
     "output_type": "stream",
     "text": [
      "Cost is : 132.06645569620252\n",
      "Cost is : nan\n"
     ]
    },
    {
     "name": "stderr",
     "output_type": "stream",
     "text": [
      "<ipython-input-123-6045ea03e090>:3: RuntimeWarning: overflow encountered in square\n",
      "  J=(1/m)*np.sum(np.square(z-y))\n"
     ]
    },
    {
     "name": "stdout",
     "output_type": "stream",
     "text": [
      "Cost is : nan\n",
      "Cost is : nan\n",
      "Cost is : nan\n",
      "Cost is : nan\n",
      "Cost is : nan\n",
      "Cost is : nan\n",
      "Cost is : nan\n",
      "Cost is : nan\n"
     ]
    },
    {
     "data": {
      "image/png": "[encoded data removed]",
      "text/plain": [
       "<Figure size 432x288 with 1 Axes>"
      ]
     },
     "metadata": {
      "needs_background": "light"
     },
     "output_type": "display_data"
    }
   ],
   "source": [
    "#cost = (1/m)*np.sum(np.square(y_pred - Y)) and learning rate=10\n",
    "iteration = 10000\n",
    "learning_rate =10\n",
    "w66,b66,costs_train66 = model2(x_trainT, y_trainT, learning_rate = learning_rate, iterations =\n",
    "iteration)\n",
    "\n",
    "#print(w.shape)\n",
    "#print(b)\n",
    "\n",
    "#rng = np.arange(0, iteration)\n",
    "plt.plot(costs_train66)\n",
    "plt.xlabel('iterations')\n",
    "plt.ylabel('Cost')\n",
    "plt.title('learning rate= 10')\n",
    "plt.show()\n",
    "#plt.plot(rng, costs_train)"
   ]
  },
  {
   "cell_type": "code",
   "execution_count": 138,
   "id": "ff58ebe3",
   "metadata": {},
   "outputs": [
    {
     "name": "stdout",
     "output_type": "stream",
     "text": [
      "Cost is : 132.06645569620252\n",
      "Cost is : nan\n"
     ]
    },
    {
     "name": "stderr",
     "output_type": "stream",
     "text": [
      "<ipython-input-123-6045ea03e090>:3: RuntimeWarning: overflow encountered in square\n",
      "  J=(1/m)*np.sum(np.square(z-y))\n",
      "<ipython-input-78-38d1673ecc85>:2: RuntimeWarning: overflow encountered in multiply\n",
      "  w=w-learning_rate*dw\n",
      "<ipython-input-78-38d1673ecc85>:3: RuntimeWarning: overflow encountered in double_scalars\n",
      "  b=b-learning_rate*db\n"
     ]
    },
    {
     "name": "stdout",
     "output_type": "stream",
     "text": [
      "Cost is : nan\n",
      "Cost is : nan\n",
      "Cost is : nan\n",
      "Cost is : nan\n",
      "Cost is : nan\n",
      "Cost is : nan\n",
      "Cost is : nan\n",
      "Cost is : nan\n"
     ]
    },
    {
     "data": {
      "image/png": "[encoded data removed]",
      "text/plain": [
       "<Figure size 432x288 with 1 Axes>"
      ]
     },
     "metadata": {
      "needs_background": "light"
     },
     "output_type": "display_data"
    }
   ],
   "source": [
    "#cost = (1/m)*np.sum(np.square(y_pred - Y)) and learning rate=100\n",
    "iteration = 10000\n",
    "learning_rate =100\n",
    "w77,b77,costs_train77 = model2(x_trainT, y_trainT, learning_rate = learning_rate, iterations =\n",
    "iteration)\n",
    "\n",
    "#print(w.shape)\n",
    "#print(b)\n",
    "\n",
    "#rng = np.arange(0, iteration)\n",
    "plt.plot(costs_train77)\n",
    "plt.xlabel('iterations')\n",
    "plt.ylabel('Cost')\n",
    "plt.title('learning rate= 100')\n",
    "plt.show()\n",
    "#plt.plot(rng, costs_train)"
   ]
  },
  {
   "cell_type": "code",
   "execution_count": 139,
   "id": "807a6d35",
   "metadata": {},
   "outputs": [
    {
     "name": "stdout",
     "output_type": "stream",
     "text": [
      "Cost is : 20866.5\n",
      "Cost is : 752.5196685493901\n",
      "Cost is : 706.9590769439819\n",
      "Cost is : 675.5798021451005\n",
      "Cost is : 653.8263514045489\n",
      "Cost is : 638.6244062673121\n",
      "Cost is : 627.8963445552625\n",
      "Cost is : 620.2361374925791\n",
      "Cost is : 614.690560112608\n",
      "Cost is : 610.6119105858809\n"
     ]
    },
    {
     "data": {
      "image/png": "[encoded data removed]",
      "text/plain": [
       "<Figure size 432x288 with 1 Axes>"
      ]
     },
     "metadata": {
      "needs_background": "light"
     },
     "output_type": "display_data"
    }
   ],
   "source": [
    "#cost = (1/2)*np.sum(np.square(y_pred - Y)) and learning rate=0.0001\n",
    "iteration = 10000\n",
    "learning_rate = 0.0001\n",
    "w111,b111,costs_train111 = model3(x_trainT, y_trainT, learning_rate = learning_rate, iterations =\n",
    "iteration)\n",
    "\n",
    "#print(w.shape)\n",
    "#print(b)\n",
    "\n",
    "#rng = np.arange(0, iteration)\n",
    "plt.plot(costs_train111)\n",
    "plt.xlabel('iterations')\n",
    "plt.ylabel('Cost')\n",
    "plt.title('learning rate=0.0001')\n",
    "plt.show()\n",
    "#plt.plot(rng, costs_train)"
   ]
  },
  {
   "cell_type": "code",
   "execution_count": 140,
   "id": "d93d7240",
   "metadata": {},
   "outputs": [
    {
     "name": "stdout",
     "output_type": "stream",
     "text": [
      "Cost is : 20866.5\n",
      "Cost is : 607.5427288252928\n",
      "Cost is : 596.775223091021\n",
      "Cost is : 593.9696620994669\n",
      "Cost is : 592.5064442274311\n",
      "Cost is : 591.4684635699833\n",
      "Cost is : 590.6102016271036\n",
      "Cost is : 589.8549476821522\n",
      "Cost is : 589.1751081009597\n",
      "Cost is : 588.5582701064719\n"
     ]
    },
    {
     "data": {
      "image/png": "[encoded data removed]",
      "text/plain": [
       "<Figure size 432x288 with 1 Axes>"
      ]
     },
     "metadata": {
      "needs_background": "light"
     },
     "output_type": "display_data"
    }
   ],
   "source": [
    "#cost = (1/2)*np.sum(np.square(y_pred - Y)) and learning rate=0.001\n",
    "iteration = 10000\n",
    "learning_rate = 0.001\n",
    "w222,b222,costs_train222 = model3(x_trainT, y_trainT, learning_rate = learning_rate, iterations =\n",
    "iteration)\n",
    "\n",
    "#print(w.shape)\n",
    "#print(b)\n",
    "\n",
    "#rng = np.arange(0, iteration)\n",
    "plt.plot(costs_train222)\n",
    "plt.xlabel('iterations')\n",
    "plt.ylabel('Cost')\n",
    "plt.title('learning rate=0.001')\n",
    "plt.show()\n",
    "#plt.plot(rng, costs_train)"
   ]
  },
  {
   "cell_type": "code",
   "execution_count": 141,
   "id": "fea8e9cb",
   "metadata": {},
   "outputs": [
    {
     "name": "stdout",
     "output_type": "stream",
     "text": [
      "Cost is : 20866.5\n",
      "Cost is : nan\n"
     ]
    },
    {
     "name": "stderr",
     "output_type": "stream",
     "text": [
      "<ipython-input-124-799559b5bd4a>:3: RuntimeWarning: overflow encountered in square\n",
      "  J=(1/2)*np.sum(np.square(z-y))\n"
     ]
    },
    {
     "name": "stdout",
     "output_type": "stream",
     "text": [
      "Cost is : nan\n",
      "Cost is : nan\n",
      "Cost is : nan\n",
      "Cost is : nan\n",
      "Cost is : nan\n",
      "Cost is : nan\n",
      "Cost is : nan\n",
      "Cost is : nan\n"
     ]
    },
    {
     "data": {
      "image/png": "[encoded data removed]",
      "text/plain": [
       "<Figure size 432x288 with 1 Axes>"
      ]
     },
     "metadata": {
      "needs_background": "light"
     },
     "output_type": "display_data"
    }
   ],
   "source": [
    "#cost = (1/2)*np.sum(np.square(y_pred - Y)) and learning rate=0.01\n",
    "iteration = 10000\n",
    "learning_rate = 0.01\n",
    "w333,b333,costs_train333 = model3(x_trainT, y_trainT, learning_rate = learning_rate, iterations =\n",
    "iteration)\n",
    "\n",
    "#print(w.shape)\n",
    "#print(b)\n",
    "\n",
    "#rng = np.arange(0, iteration)\n",
    "plt.plot(costs_train333)\n",
    "plt.xlabel('iterations')\n",
    "plt.ylabel('Cost')\n",
    "plt.title('learning rate=0.01')\n",
    "plt.show()\n",
    "#plt.plot(rng, costs_train)"
   ]
  },
  {
   "cell_type": "code",
   "execution_count": 142,
   "id": "65bd0bf2",
   "metadata": {},
   "outputs": [
    {
     "name": "stdout",
     "output_type": "stream",
     "text": [
      "Cost is : 20866.5\n",
      "Cost is : nan\n"
     ]
    },
    {
     "name": "stderr",
     "output_type": "stream",
     "text": [
      "<ipython-input-124-799559b5bd4a>:3: RuntimeWarning: overflow encountered in square\n",
      "  J=(1/2)*np.sum(np.square(z-y))\n"
     ]
    },
    {
     "name": "stdout",
     "output_type": "stream",
     "text": [
      "Cost is : nan\n",
      "Cost is : nan\n",
      "Cost is : nan\n",
      "Cost is : nan\n",
      "Cost is : nan\n",
      "Cost is : nan\n",
      "Cost is : nan\n",
      "Cost is : nan\n"
     ]
    },
    {
     "data": {
      "image/png": "[encoded data removed]",
      "text/plain": [
       "<Figure size 432x288 with 1 Axes>"
      ]
     },
     "metadata": {
      "needs_background": "light"
     },
     "output_type": "display_data"
    }
   ],
   "source": [
    "#cost = (1/2)*np.sum(np.square(y_pred - Y)) and learning rate=0.1\n",
    "iteration = 10000\n",
    "learning_rate = 0.1\n",
    "w444,b444,costs_train444 = model3(x_trainT, y_trainT, learning_rate = learning_rate, iterations =\n",
    "iteration)\n",
    "\n",
    "#print(w.shape)\n",
    "#print(b)\n",
    "\n",
    "#rng = np.arange(0, iteration)\n",
    "plt.plot(costs_train444)\n",
    "plt.xlabel('iterations')\n",
    "plt.ylabel('Cost')\n",
    "plt.title('learning rate=0.1')\n",
    "plt.show()\n",
    "#plt.plot(rng, costs_train)"
   ]
  },
  {
   "cell_type": "code",
   "execution_count": 144,
   "id": "c3e5ae4e",
   "metadata": {},
   "outputs": [
    {
     "name": "stdout",
     "output_type": "stream",
     "text": [
      "Cost is : 20866.5\n",
      "Cost is : nan\n"
     ]
    },
    {
     "name": "stderr",
     "output_type": "stream",
     "text": [
      "<ipython-input-124-799559b5bd4a>:3: RuntimeWarning: overflow encountered in square\n",
      "  J=(1/2)*np.sum(np.square(z-y))\n"
     ]
    },
    {
     "name": "stdout",
     "output_type": "stream",
     "text": [
      "Cost is : nan\n",
      "Cost is : nan\n",
      "Cost is : nan\n",
      "Cost is : nan\n",
      "Cost is : nan\n",
      "Cost is : nan\n",
      "Cost is : nan\n",
      "Cost is : nan\n"
     ]
    },
    {
     "data": {
      "image/png": "[encoded data removed]",
      "text/plain": [
       "<Figure size 432x288 with 1 Axes>"
      ]
     },
     "metadata": {
      "needs_background": "light"
     },
     "output_type": "display_data"
    }
   ],
   "source": [
    "#cost = (1/2)*np.sum(np.square(y_pred - Y)) and learning rate=1\n",
    "iteration = 10000\n",
    "learning_rate =1\n",
    "w555,b555,costs_train555 = model3(x_trainT, y_trainT, learning_rate = learning_rate, iterations =\n",
    "iteration)\n",
    "\n",
    "#print(w.shape)\n",
    "#print(b)\n",
    "\n",
    "#rng = np.arange(0, iteration)\n",
    "plt.plot(costs_train555)\n",
    "plt.xlabel('iterations')\n",
    "plt.ylabel('Cost')\n",
    "plt.title('learning rate= 1')\n",
    "plt.show()\n",
    "#plt.plot(rng, costs_train)"
   ]
  },
  {
   "cell_type": "code",
   "execution_count": 145,
   "id": "7b6356f4",
   "metadata": {},
   "outputs": [
    {
     "name": "stdout",
     "output_type": "stream",
     "text": [
      "Cost is : 20866.5\n",
      "Cost is : nan\n"
     ]
    },
    {
     "name": "stderr",
     "output_type": "stream",
     "text": [
      "<ipython-input-124-799559b5bd4a>:3: RuntimeWarning: overflow encountered in square\n",
      "  J=(1/2)*np.sum(np.square(z-y))\n"
     ]
    },
    {
     "name": "stdout",
     "output_type": "stream",
     "text": [
      "Cost is : nan\n",
      "Cost is : nan\n",
      "Cost is : nan\n",
      "Cost is : nan\n",
      "Cost is : nan\n",
      "Cost is : nan\n",
      "Cost is : nan\n",
      "Cost is : nan\n"
     ]
    },
    {
     "data": {
      "image/png": "[encoded data removed]",
      "text/plain": [
       "<Figure size 432x288 with 1 Axes>"
      ]
     },
     "metadata": {
      "needs_background": "light"
     },
     "output_type": "display_data"
    }
   ],
   "source": [
    "#cost = (1/2)*np.sum(np.square(y_pred - Y)) and learning rate=10\n",
    "iteration = 10000\n",
    "learning_rate =10\n",
    "w666,b666,costs_train666 = model3(x_trainT, y_trainT, learning_rate = learning_rate, iterations =\n",
    "iteration)\n",
    "\n",
    "#print(w.shape)\n",
    "#print(b)\n",
    "\n",
    "#rng = np.arange(0, iteration)\n",
    "plt.plot(costs_train666)\n",
    "plt.xlabel('iterations')\n",
    "plt.ylabel('Cost')\n",
    "plt.title('learning rate= 10')\n",
    "plt.show()\n",
    "#plt.plot(rng, costs_train)"
   ]
  },
  {
   "cell_type": "code",
   "execution_count": 146,
   "id": "5b8b02d2",
   "metadata": {},
   "outputs": [
    {
     "name": "stdout",
     "output_type": "stream",
     "text": [
      "Cost is : 20866.5\n",
      "Cost is : nan\n"
     ]
    },
    {
     "name": "stderr",
     "output_type": "stream",
     "text": [
      "<ipython-input-124-799559b5bd4a>:3: RuntimeWarning: overflow encountered in square\n",
      "  J=(1/2)*np.sum(np.square(z-y))\n",
      "<ipython-input-78-38d1673ecc85>:2: RuntimeWarning: overflow encountered in multiply\n",
      "  w=w-learning_rate*dw\n",
      "<ipython-input-78-38d1673ecc85>:3: RuntimeWarning: overflow encountered in double_scalars\n",
      "  b=b-learning_rate*db\n"
     ]
    },
    {
     "name": "stdout",
     "output_type": "stream",
     "text": [
      "Cost is : nan\n",
      "Cost is : nan\n",
      "Cost is : nan\n",
      "Cost is : nan\n",
      "Cost is : nan\n",
      "Cost is : nan\n",
      "Cost is : nan\n",
      "Cost is : nan\n"
     ]
    },
    {
     "data": {
      "image/png": "[encoded data removed]",
      "text/plain": [
       "<Figure size 432x288 with 1 Axes>"
      ]
     },
     "metadata": {
      "needs_background": "light"
     },
     "output_type": "display_data"
    }
   ],
   "source": [
    "#cost = (1/2)*np.sum(np.square(y_pred - Y)) and learning rate=100\n",
    "iteration = 10000\n",
    "learning_rate =100\n",
    "w777,b777,costs_train777 = model3(x_trainT, y_trainT, learning_rate = learning_rate, iterations =\n",
    "iteration)\n",
    "\n",
    "#print(w.shape)\n",
    "#print(b)\n",
    "\n",
    "#rng = np.arange(0, iteration)\n",
    "plt.plot(costs_train777)\n",
    "plt.xlabel('iterations')\n",
    "plt.ylabel('Cost')\n",
    "plt.title('learning rate= 100')\n",
    "plt.show()\n",
    "#plt.plot(rng, costs_train)"
   ]
  },
  {
   "cell_type": "code",
   "execution_count": 158,
   "id": "60fd9d4b",
   "metadata": {},
   "outputs": [],
   "source": [
    "#cost = (1/(2*m))*np.sum(np.square(y_pred - Y)) and learning rate=0.0001\n",
    "y_pred1 =straight_line(x_testT,w1,b1)"
   ]
  },
  {
   "cell_type": "code",
   "execution_count": 159,
   "id": "03c4c7ab",
   "metadata": {
    "collapsed": true
   },
   "outputs": [
    {
     "data": {
      "text/plain": [
       "array([[ 6.85991735, 15.42055301,  6.53470369, 16.65593327, 13.98415943,\n",
       "         9.23315007, 15.24590511, 11.93276807,  7.33656128,  5.62496254,\n",
       "         8.3946777 , 16.05140265, 15.02104109, 12.13961183, 14.84574994,\n",
       "         9.84291427,  6.10023064, 14.80486557,  6.85041418,  0.53188745,\n",
       "        14.13313156,  8.45029882,  9.99993164, 10.53573372,  5.68058366,\n",
       "         9.8020299 ,  0.31571193,  9.83405435,  9.83639417,  4.22728493,\n",
       "        13.33351087,  7.74130678,  8.99588911, 15.22546293,  7.70042241,\n",
       "         0.53840755,  5.65426464, 14.79834547,  8.12101978,  6.58305854,\n",
       "         3.55192458, 10.06479522, 14.154217  ,  6.0596534 , 12.98292856,\n",
       "        17.90247035, 10.01168532, 10.64317822,  8.85343708,  6.5881207 ,\n",
       "        11.82186865, 15.51748395, 12.07240844,  8.66358058, 12.67693906,\n",
       "        12.89311458, 10.24242619, 12.64257479, 19.25862033,  6.56197309,\n",
       "         6.79176358,  4.27621454,  5.93081633,  8.09529761,  9.76114553,\n",
       "         8.70446495, 13.00120234, 11.9590871 , 13.13842079,  8.4174597 ,\n",
       "        12.44688785, 11.75755902, 11.86564679,  9.8020299 , 10.46724381,\n",
       "        12.64257479, 10.83239146,  7.83764086, 10.83239146]])"
      ]
     },
     "execution_count": 159,
     "metadata": {},
     "output_type": "execute_result"
    }
   ],
   "source": [
    "y_pred1"
   ]
  },
  {
   "cell_type": "code",
   "execution_count": 160,
   "id": "74c5e367",
   "metadata": {},
   "outputs": [
    {
     "data": {
      "text/plain": [
       "(1, 79)"
      ]
     },
     "execution_count": 160,
     "metadata": {},
     "output_type": "execute_result"
    }
   ],
   "source": [
    "y_pred1.shape"
   ]
  },
  {
   "cell_type": "code",
   "execution_count": 161,
   "id": "b754d122",
   "metadata": {
    "collapsed": true
   },
   "outputs": [
    {
     "name": "stdout",
     "output_type": "stream",
     "text": [
      "[ 6.85991735 15.42055301  6.53470369 16.65593327 13.98415943  9.23315007\n",
      " 15.24590511 11.93276807  7.33656128  5.62496254  8.3946777  16.05140265\n",
      " 15.02104109 12.13961183 14.84574994  9.84291427  6.10023064 14.80486557\n",
      "  6.85041418  0.53188745 14.13313156  8.45029882  9.99993164 10.53573372\n",
      "  5.68058366  9.8020299   0.31571193  9.83405435  9.83639417  4.22728493\n",
      " 13.33351087  7.74130678  8.99588911 15.22546293  7.70042241  0.53840755\n",
      "  5.65426464 14.79834547  8.12101978  6.58305854  3.55192458 10.06479522\n",
      " 14.154217    6.0596534  12.98292856 17.90247035 10.01168532 10.64317822\n",
      "  8.85343708  6.5881207  11.82186865 15.51748395 12.07240844  8.66358058\n",
      " 12.67693906 12.89311458 10.24242619 12.64257479 19.25862033  6.56197309\n",
      "  6.79176358  4.27621454  5.93081633  8.09529761  9.76114553  8.70446495\n",
      " 13.00120234 11.9590871  13.13842079  8.4174597  12.44688785 11.75755902\n",
      " 11.86564679  9.8020299  10.46724381 12.64257479 10.83239146  7.83764086\n",
      " 10.83239146] [ 8 17  5 16 13 11 16 10  7  6  9 17 16 13 14 10  8 14  8  8 14  9  8 11\n",
      "  6 10  6 11  8  6 14  8  8 16  8 10  5 12 10  7  7 12 15  7 10 19 10 11\n",
      "  9  6 12 14 12  8 11 13 11 13 18  6  7  3  7  7 10  8 14 11 13  6 14 14\n",
      " 15 10  8 13 11  7 11] [ 6 16  7 17 13  9 15 11  8  8  9 16 15 12 15 10  8 16  8  0 13  0 10 10\n",
      "  6 10  0 10 10  0 13  8 10 15  9  0  6 15  8  7  0 10 14  7 12 19 10 11\n",
      " 10  8 11 16 11  8 14 13 10 14 19  0  9  5  7  0 10 10 13 11 14  8 13 12\n",
      " 12 11 11 13 11  8 11]\n"
     ]
    }
   ],
   "source": [
    "for x in range(len(y_pred1)):\n",
    "    print(y_pred1[x], x_testT[x], y_testT[x])"
   ]
  },
  {
   "cell_type": "code",
   "execution_count": 162,
   "id": "c2fc6252",
   "metadata": {},
   "outputs": [],
   "source": [
    "y_predT1=y_pred1.T"
   ]
  },
  {
   "cell_type": "code",
   "execution_count": 163,
   "id": "8350977c",
   "metadata": {
    "collapsed": true
   },
   "outputs": [
    {
     "name": "stdout",
     "output_type": "stream",
     "text": [
      "[6.85991735] [8 7 2 0 4] 6\n",
      "[15.42055301] [17 15  1  0  4] 16\n",
      "[6.53470369] [5 8 2 3 0] 7\n",
      "[16.65593327] [16 17  3  0  0] 17\n",
      "[13.98415943] [13 14  1  0  0] 13\n",
      "[9.23315007] [11  9  2  0 14] 9\n",
      "[15.24590511] [16 15  2  0 11] 15\n",
      "[11.93276807] [10 12  2  0 16] 11\n",
      "[7.33656128] [7 8 4 0 8] 8\n",
      "[5.62496254] [ 6  6  2  1 13] 8\n",
      "[8.3946777] [ 9  9  2  2 11] 9\n",
      "[16.05140265] [17 16  2  0  0] 16\n",
      "[15.02104109] [16 15  2  0  0] 15\n",
      "[12.13961183] [13 12  1  0  0] 12\n",
      "[14.84574994] [14 15  2  0  2] 15\n",
      "[9.84291427] [10 10  2  0  4] 10\n",
      "[6.10023064] [8 7 2 3 8] 8\n",
      "[14.80486557] [14 15  2  0  0] 16\n",
      "[6.85041418] [8 7 1 1 7] 8\n",
      "[0.53188745] [8 0 1 0 0] 0\n",
      "[14.13313156] [14 14  1  0  2] 13\n",
      "[8.45029882] [9 9 2 1 0] 0\n",
      "[9.99993164] [ 8 10  1  0 12] 10\n",
      "[10.53573372] [11 11  4  0  8] 10\n",
      "[5.68058366] [6 6 2 0 2] 6\n",
      "[9.8020299] [10 10  2  0  2] 10\n",
      "[0.31571193] [6 0 1 0 0] 0\n",
      "[9.83405435] [11 10  2  1 12] 10\n",
      "[9.83639417] [ 8 10  1  0  4] 10\n",
      "[4.22728493] [6 5 3 1 0] 0\n",
      "[13.33351087] [14 13  1  0  8] 13\n",
      "[7.74130678] [8 8 2 0 2] 8\n",
      "[8.99588911] [8 9 1 0 8] 10\n",
      "[15.22546293] [16 15  2  0 10] 15\n",
      "[7.70042241] [8 8 2 0 0] 9\n",
      "[0.53840755] [10  0  2  0  0] 0\n",
      "[5.65426464] [5 6 2 0 6] 6\n",
      "[14.79834547] [12 15  1  0  0] 15\n",
      "[8.12101978] [10  8  2  0 10] 8\n",
      "[6.58305854] [7 7 3 0 6] 7\n",
      "[3.55192458] [7 4 1 2 0] 0\n",
      "[10.06479522] [12 10  2  1 18] 10\n",
      "[14.154217] [15 14  2  0  8] 14\n",
      "[6.0596534] [7 6 1 0 5] 7\n",
      "[12.98292856] [10 13  1  0 12] 12\n",
      "[17.90247035] [19 18  3  0  0] 19\n",
      "[10.01168532] [10 10  1  0  2] 10\n",
      "[10.64317822] [11 11  3  0  3] 11\n",
      "[8.85343708] [9 9 2 0 6] 10\n",
      "[6.5881207] [ 6  7  2  1 15] 8\n",
      "[11.82186865] [12 12  2  0  0] 11\n",
      "[15.51748395] [14 16  3  0  0] 16\n",
      "[12.07240844] [12 12  1  0  2] 11\n",
      "[8.66358058] [8 9 2 0 2] 8\n",
      "[12.67693906] [11 13  2  0  2] 14\n",
      "[12.89311458] [13 13  2  0  2] 13\n",
      "[10.24242619] [11 10  1  0  8] 10\n",
      "[12.64257479] [13 13  3  0  0] 14\n",
      "[19.25862033] [18 19  1  0  6] 19\n",
      "[6.56197309] [6 7 2 0 0] 0\n",
      "[6.79176358] [7 8 2 3 2] 9\n",
      "[4.27621454] [3 5 2 1 8] 5\n",
      "[5.93081633] [7 7 2 3 5] 7\n",
      "[8.09529761] [7 9 4 0 0] 0\n",
      "[9.76114553] [10 10  2  0  0] 10\n",
      "[8.70446495] [8 9 2 0 4] 10\n",
      "[13.00120234] [14 13  2  0  2] 13\n",
      "[11.9590871] [11 12  2  0 12] 11\n",
      "[13.13842079] [13 13  2  0 14] 14\n",
      "[8.4174597] [6 9 1 1 4] 8\n",
      "[12.44688785] [14 12  2  0 20] 13\n",
      "[11.75755902] [14 12  2  1  0] 12\n",
      "[11.86564679] [15 12  2  1  0] 12\n",
      "[9.8020299] [10 10  2  0  2] 11\n",
      "[10.46724381] [ 8 11  2  0  0] 11\n",
      "[12.64257479] [13 13  3  0  0] 13\n",
      "[10.83239146] [11 11  2  0  2] 11\n",
      "[7.83764086] [ 7  8  2  0 12] 8\n",
      "[10.83239146] [11 11  2  0  2] 11\n"
     ]
    }
   ],
   "source": [
    "for x in range(len(y_predT1)):\n",
    "    print(y_predT1[x], x_test[x], y_test[x])"
   ]
  },
  {
   "cell_type": "code",
   "execution_count": 192,
   "id": "72d2e9c1",
   "metadata": {},
   "outputs": [
    {
     "name": "stdout",
     "output_type": "stream",
     "text": [
      "Evaluation for model1 with cost = (1/(2*m))*np.sum(np.square(y_pred - Y)) and learning rate=0.0001\n",
      "\n",
      "Explained variance score:\n",
      "0.8385162209929484 \n",
      "\n",
      "Max error:\n",
      "8.450298824929604 \n",
      "\n",
      "Mean absolute error:\n",
      "0.9599730295551996 \n",
      "\n",
      "Mean squared error:\n",
      "3.260965855771484 \n",
      "\n",
      "Root mean squared error:\n",
      "1.805814457736864 \n",
      "\n",
      "Median absolute error:\n",
      "0.5318874470485151 \n",
      "\n",
      "R² score:\n",
      "0.8374335976845608 \n",
      "\n",
      "Adjusted-R2 :  0.8262989125944622\n"
     ]
    }
   ],
   "source": [
    "print('Evaluation for model1 with cost = (1/(2*m))*np.sum(np.square(y_pred - Y)) and learning rate=0.0001\\n')\n",
    "\n",
    "#Explained variance score\n",
    "print('Explained variance score:')\n",
    "print(explained_variance_score(y_test, y_predT1),'\\n')\n",
    "\n",
    "#max error\n",
    "print('Max error:')\n",
    "print(max_error(y_test, y_predT1),'\\n')\n",
    "\n",
    "#Mean absolute error\n",
    "print('Mean absolute error:')\n",
    "print(mean_absolute_error(y_test, y_predT1),'\\n')\n",
    "\n",
    "#Mean squared error\n",
    "print('Mean squared error:')\n",
    "print(mean_squared_error(y_test, y_predT1),'\\n')\n",
    "\n",
    "#Root mean squared error\n",
    "print('Root mean squared error:')\n",
    "print(mean_squared_error(y_test, y_predT1, squared=False),'\\n')\n",
    "\n",
    "#Median absolute error\n",
    "print('Median absolute error:')\n",
    "print(median_absolute_error(y_test, y_predT1),'\\n')\n",
    "\n",
    "\n",
    "#R² score\n",
    "print('R² score:')\n",
    "print(r2_score(y_test, y_predT1),'\\n')\n",
    "\n",
    "#Adjusted-R2\n",
    "r2 = r2_score(y_test, y_predT1)\n",
    "N=79\n",
    "p=5\n",
    "x = (1-r2)\n",
    "y = (N-1) / (N-p-1)\n",
    "adj_rsquared = (1 - (x * y))\n",
    "print(\"Adjusted-R2 : \" , adj_rsquared)"
   ]
  },
  {
   "cell_type": "code",
   "execution_count": 164,
   "id": "cf303ff3",
   "metadata": {},
   "outputs": [],
   "source": [
    "#cost = (1/(2*m))*np.sum(np.square(y_pred - Y)) and learning rate=0.001\n",
    "y_pred2 =straight_line(x_testT,w2,b2)\n"
   ]
  },
  {
   "cell_type": "code",
   "execution_count": 165,
   "id": "0a211749",
   "metadata": {
    "collapsed": true
   },
   "outputs": [
    {
     "data": {
      "text/plain": [
       "array([[ 6.65400638e+00,  1.56616335e+01,  5.71648123e+00,\n",
       "         1.68832033e+01,  1.41424510e+01,  9.20500685e+00,\n",
       "         1.54980982e+01,  1.20692714e+01,  7.12756431e+00,\n",
       "         5.22611669e+00,  7.92244922e+00,  1.62706915e+01,\n",
       "         1.51897108e+01,  1.21978636e+01,  1.50284073e+01,\n",
       "         9.78826139e+00,  5.29453020e+00,  1.49723368e+01,\n",
       "         6.49866784e+00, -1.30954930e-02,  1.43072084e+01,\n",
       "         8.10460084e+00,  1.00462640e+01,  1.04791933e+01,\n",
       "         5.40826831e+00,  9.73219095e+00, -2.30469436e-01,\n",
       "         9.63069109e+00,  9.82198227e+00,  3.63827034e+00,\n",
       "         1.35031260e+01,  7.57022963e+00,  8.96182946e+00,\n",
       "         1.54700630e+01,  7.51415919e+00, -4.68163785e-02,\n",
       "         5.41172221e+00,  1.50060577e+01,  8.01188532e+00,\n",
       "         6.35029501e+00,  2.78631426e+00,  9.90758937e+00,\n",
       "         1.43330119e+01,  5.85215576e+00,  1.31805190e+01,\n",
       "         1.81815579e+01,  9.98328578e+00,  1.05901120e+01,\n",
       "         8.76335116e+00,  6.25448082e+00,  1.18380818e+01,\n",
       "         1.56935357e+01,  1.21452471e+01,  8.54252332e+00,\n",
       "         1.27577590e+01,  1.29751329e+01,  1.02601841e+01,\n",
       "         1.26679677e+01,  1.97155656e+01,  6.32449156e+00,\n",
       "         5.98992561e+00,  3.78758600e+00,  5.10173758e+00,\n",
       "         7.87557625e+00,  9.67612052e+00,  8.59859376e+00,\n",
       "         1.30838199e+01,  1.20658175e+01,  1.33115556e+01,\n",
       "         8.14177563e+00,  1.26161601e+01,  1.15649168e+01,\n",
       "         1.16736037e+01,  9.73219095e+00,  1.04310403e+01,\n",
       "         1.26679677e+01,  1.08131716e+01,  7.74189484e+00,\n",
       "         1.08131716e+01]])"
      ]
     },
     "execution_count": 165,
     "metadata": {},
     "output_type": "execute_result"
    }
   ],
   "source": [
    "y_pred2"
   ]
  },
  {
   "cell_type": "code",
   "execution_count": 166,
   "id": "6f2de18a",
   "metadata": {},
   "outputs": [
    {
     "data": {
      "text/plain": [
       "(1, 79)"
      ]
     },
     "execution_count": 166,
     "metadata": {},
     "output_type": "execute_result"
    }
   ],
   "source": [
    "y_pred2.shape"
   ]
  },
  {
   "cell_type": "code",
   "execution_count": 167,
   "id": "b87ffe1b",
   "metadata": {
    "collapsed": true
   },
   "outputs": [
    {
     "name": "stdout",
     "output_type": "stream",
     "text": [
      "[ 6.65400638e+00  1.56616335e+01  5.71648123e+00  1.68832033e+01\n",
      "  1.41424510e+01  9.20500685e+00  1.54980982e+01  1.20692714e+01\n",
      "  7.12756431e+00  5.22611669e+00  7.92244922e+00  1.62706915e+01\n",
      "  1.51897108e+01  1.21978636e+01  1.50284073e+01  9.78826139e+00\n",
      "  5.29453020e+00  1.49723368e+01  6.49866784e+00 -1.30954930e-02\n",
      "  1.43072084e+01  8.10460084e+00  1.00462640e+01  1.04791933e+01\n",
      "  5.40826831e+00  9.73219095e+00 -2.30469436e-01  9.63069109e+00\n",
      "  9.82198227e+00  3.63827034e+00  1.35031260e+01  7.57022963e+00\n",
      "  8.96182946e+00  1.54700630e+01  7.51415919e+00 -4.68163785e-02\n",
      "  5.41172221e+00  1.50060577e+01  8.01188532e+00  6.35029501e+00\n",
      "  2.78631426e+00  9.90758937e+00  1.43330119e+01  5.85215576e+00\n",
      "  1.31805190e+01  1.81815579e+01  9.98328578e+00  1.05901120e+01\n",
      "  8.76335116e+00  6.25448082e+00  1.18380818e+01  1.56935357e+01\n",
      "  1.21452471e+01  8.54252332e+00  1.27577590e+01  1.29751329e+01\n",
      "  1.02601841e+01  1.26679677e+01  1.97155656e+01  6.32449156e+00\n",
      "  5.98992561e+00  3.78758600e+00  5.10173758e+00  7.87557625e+00\n",
      "  9.67612052e+00  8.59859376e+00  1.30838199e+01  1.20658175e+01\n",
      "  1.33115556e+01  8.14177563e+00  1.26161601e+01  1.15649168e+01\n",
      "  1.16736037e+01  9.73219095e+00  1.04310403e+01  1.26679677e+01\n",
      "  1.08131716e+01  7.74189484e+00  1.08131716e+01] [ 8 17  5 16 13 11 16 10  7  6  9 17 16 13 14 10  8 14  8  8 14  9  8 11\n",
      "  6 10  6 11  8  6 14  8  8 16  8 10  5 12 10  7  7 12 15  7 10 19 10 11\n",
      "  9  6 12 14 12  8 11 13 11 13 18  6  7  3  7  7 10  8 14 11 13  6 14 14\n",
      " 15 10  8 13 11  7 11] [ 6 16  7 17 13  9 15 11  8  8  9 16 15 12 15 10  8 16  8  0 13  0 10 10\n",
      "  6 10  0 10 10  0 13  8 10 15  9  0  6 15  8  7  0 10 14  7 12 19 10 11\n",
      " 10  8 11 16 11  8 14 13 10 14 19  0  9  5  7  0 10 10 13 11 14  8 13 12\n",
      " 12 11 11 13 11  8 11]\n"
     ]
    }
   ],
   "source": [
    "for x in range(len(y_pred2)):\n",
    "    print(y_pred2[x], x_testT[x], y_testT[x])"
   ]
  },
  {
   "cell_type": "code",
   "execution_count": 168,
   "id": "c9b50959",
   "metadata": {},
   "outputs": [],
   "source": [
    "y_predT2=y_pred2.T"
   ]
  },
  {
   "cell_type": "code",
   "execution_count": 169,
   "id": "236f5ebc",
   "metadata": {
    "collapsed": true
   },
   "outputs": [
    {
     "name": "stdout",
     "output_type": "stream",
     "text": [
      "[6.65400638] [8 7 2 0 4] 6\n",
      "[15.66163346] [17 15  1  0  4] 16\n",
      "[5.71648123] [5 8 2 3 0] 7\n",
      "[16.88320334] [16 17  3  0  0] 17\n",
      "[14.14245102] [13 14  1  0  0] 13\n",
      "[9.20500685] [11  9  2  0 14] 9\n",
      "[15.49809819] [16 15  2  0 11] 15\n",
      "[12.06927138] [10 12  2  0 16] 11\n",
      "[7.12756431] [7 8 4 0 8] 8\n",
      "[5.22611669] [ 6  6  2  1 13] 8\n",
      "[7.92244922] [ 9  9  2  2 11] 9\n",
      "[16.27069145] [17 16  2  0  0] 16\n",
      "[15.18971079] [16 15  2  0  0] 15\n",
      "[12.19786364] [13 12  1  0  0] 12\n",
      "[15.02840728] [14 15  2  0  2] 15\n",
      "[9.78826139] [10 10  2  0  4] 10\n",
      "[5.2945302] [8 7 2 3 8] 8\n",
      "[14.97233685] [14 15  2  0  0] 16\n",
      "[6.49866784] [8 7 1 1 7] 8\n",
      "[-0.01309549] [8 0 1 0 0] 0\n",
      "[14.30720842] [14 14  1  0  2] 13\n",
      "[8.10460084] [9 9 2 1 0] 0\n",
      "[10.04626402] [ 8 10  1  0 12] 10\n",
      "[10.47919326] [11 11  4  0  8] 10\n",
      "[5.40826831] [6 6 2 0 2] 6\n",
      "[9.73219095] [10 10  2  0  2] 10\n",
      "[-0.23046944] [6 0 1 0 0] 0\n",
      "[9.63069109] [11 10  2  1 12] 10\n",
      "[9.82198227] [ 8 10  1  0  4] 10\n",
      "[3.63827034] [6 5 3 1 0] 0\n",
      "[13.50312604] [14 13  1  0  8] 13\n",
      "[7.57022963] [8 8 2 0 2] 8\n",
      "[8.96182946] [8 9 1 0 8] 10\n",
      "[15.47006297] [16 15  2  0 10] 15\n",
      "[7.51415919] [8 8 2 0 0] 9\n",
      "[-0.04681638] [10  0  2  0  0] 0\n",
      "[5.41172221] [5 6 2 0 6] 6\n",
      "[15.00605773] [12 15  1  0  0] 15\n",
      "[8.01188532] [10  8  2  0 10] 8\n",
      "[6.35029501] [7 7 3 0 6] 7\n",
      "[2.78631426] [7 4 1 2 0] 0\n",
      "[9.90758937] [12 10  2  1 18] 10\n",
      "[14.33301187] [15 14  2  0  8] 14\n",
      "[5.85215576] [7 6 1 0 5] 7\n",
      "[13.18051903] [10 13  1  0 12] 12\n",
      "[18.18155795] [19 18  3  0  0] 19\n",
      "[9.98328578] [10 10  1  0  2] 10\n",
      "[10.590112] [11 11  3  0  3] 11\n",
      "[8.76335116] [9 9 2 0 6] 10\n",
      "[6.25448082] [ 6  7  2  1 15] 8\n",
      "[11.83808184] [12 12  2  0  0] 11\n",
      "[15.69353571] [14 16  3  0  0] 16\n",
      "[12.1452471] [12 12  1  0  2] 11\n",
      "[8.54252332] [8 9 2 0 2] 8\n",
      "[12.75775899] [11 13  2  0  2] 14\n",
      "[12.97513293] [13 13  2  0  2] 13\n",
      "[10.26018406] [11 10  1  0  8] 10\n",
      "[12.66796767] [13 13  3  0  0] 14\n",
      "[19.71556563] [18 19  1  0  6] 19\n",
      "[6.32449156] [6 7 2 0 0] 0\n",
      "[5.98992561] [7 8 2 3 2] 9\n",
      "[3.787586] [3 5 2 1 8] 5\n",
      "[5.10173758] [7 7 2 3 5] 7\n",
      "[7.87557625] [7 9 4 0 0] 0\n",
      "[9.67612052] [10 10  2  0  0] 10\n",
      "[8.59859376] [8 9 2 0 4] 10\n",
      "[13.08381991] [14 13  2  0  2] 13\n",
      "[12.06581748] [11 12  2  0 12] 11\n",
      "[13.31155555] [13 13  2  0 14] 14\n",
      "[8.14177563] [6 9 1 1 4] 8\n",
      "[12.61616014] [14 12  2  0 20] 13\n",
      "[11.56491676] [14 12  2  1  0] 12\n",
      "[11.67360374] [15 12  2  1  0] 12\n",
      "[9.73219095] [10 10  2  0  2] 11\n",
      "[10.43104026] [ 8 11  2  0  0] 11\n",
      "[12.66796767] [13 13  3  0  0] 13\n",
      "[10.81317161] [11 11  2  0  2] 11\n",
      "[7.74189484] [ 7  8  2  0 12] 8\n",
      "[10.81317161] [11 11  2  0  2] 11\n"
     ]
    }
   ],
   "source": [
    "for x in range(len(y_predT2)):\n",
    "    print(y_predT2[x], x_test[x], y_test[x])"
   ]
  },
  {
   "cell_type": "code",
   "execution_count": 194,
   "id": "a58c091d",
   "metadata": {},
   "outputs": [
    {
     "name": "stdout",
     "output_type": "stream",
     "text": [
      "Evaluation for model1 with cost = (1/(2*m))*np.sum(np.square(y_pred - Y)) and learning rate=0.001\n",
      "\n",
      "Explained variance score:\n",
      "0.838299739664677 \n",
      "\n",
      "Max error:\n",
      "8.104600839337007 \n",
      "\n",
      "Mean absolute error:\n",
      "1.0223583262055311 \n",
      "\n",
      "Mean squared error:\n",
      "3.245514211566203 \n",
      "\n",
      "Root mean squared error:\n",
      "1.8015310742716049 \n",
      "\n",
      "Median absolute error:\n",
      "0.5425233191892236 \n",
      "\n",
      "R² score:\n",
      "0.8382038965222088 \n",
      "\n",
      "Adjusted-R2 :  0.8271219716264697\n"
     ]
    }
   ],
   "source": [
    "print('Evaluation for model1 with cost = (1/(2*m))*np.sum(np.square(y_pred - Y)) and learning rate=0.001\\n')\n",
    "\n",
    "#Explained variance score\n",
    "print('Explained variance score:')\n",
    "print(explained_variance_score(y_test, y_predT2),'\\n')\n",
    "\n",
    "#max error\n",
    "print('Max error:')\n",
    "print(max_error(y_test, y_predT2),'\\n')\n",
    "\n",
    "#Mean absolute error\n",
    "print('Mean absolute error:')\n",
    "print(mean_absolute_error(y_test, y_predT2),'\\n')\n",
    "\n",
    "#Mean squared error\n",
    "print('Mean squared error:')\n",
    "print(mean_squared_error(y_test, y_predT2),'\\n')\n",
    "\n",
    "#Root mean squared error\n",
    "print('Root mean squared error:')\n",
    "print(mean_squared_error(y_test, y_predT2, squared=False),'\\n')\n",
    "\n",
    "#Median absolute error\n",
    "print('Median absolute error:')\n",
    "print(median_absolute_error(y_test, y_predT2),'\\n')\n",
    "\n",
    "\n",
    "#R² score\n",
    "print('R² score:')\n",
    "print(r2_score(y_test, y_predT2),'\\n')\n",
    "\n",
    "#Adjusted-R2\n",
    "r2 = r2_score(y_test, y_predT2)\n",
    "N=79\n",
    "p=5\n",
    "x = (1-r2)\n",
    "y = (N-1) / (N-p-1)\n",
    "adj_rsquared = (1 - (x * y))\n",
    "print(\"Adjusted-R2 : \" , adj_rsquared)"
   ]
  },
  {
   "cell_type": "code",
   "execution_count": 219,
   "id": "81db7cbf",
   "metadata": {},
   "outputs": [
    {
     "name": "stdout",
     "output_type": "stream",
     "text": [
      "8.06 [8 7 2 0 4] 6\n",
      "15.44 [17 15  1  0  4] 16\n",
      "1.51 [5 8 2 3 0] 7\n",
      "17.474166666666665 [16 17  3  0  0] 17\n",
      "14.25 [13 14  1  0  0] 13\n",
      "9.17 [11  9  2  0 14] 9\n",
      "15.35 [16 15  2  0 11] 15\n",
      "12.23 [10 12  2  0 16] 11\n",
      "7.27 [7 8 4 0 8] 8\n",
      "5.14 [ 6  6  2  1 13] 8\n",
      "9.16 [ 9  9  2  2 11] 9\n",
      "16.576666666666668 [17 16  2  0  0] 16\n",
      "15.04 [16 15  2  0  0] 15\n",
      "11.92 [13 12  1  0  0] 12\n",
      "15.58057142857143 [14 15  2  0  2] 15\n",
      "10.445333333333332 [10 10  2  0  4] 10\n",
      "8.65 [8 7 2 3 8] 8\n",
      "15.0 [14 15  2  0  0] 16\n",
      "7.91 [8 7 1 1 7] 8\n",
      "0.47 [8 0 1 0 0] 0\n",
      "14.02 [14 14  1  0  2] 13\n",
      "3.835 [9 9 2 1 0] 0\n",
      "9.614833333333333 [ 8 10  1  0 12] 10\n",
      "10.91 [11 11  4  0  8] 10\n",
      "5.66 [6 6 2 0 2] 6\n",
      "10.082785714285714 [10 10  2  0  2] 10\n",
      "0.18 [6 0 1 0 0] 0\n",
      "9.509833333333333 [11 10  2  1 12] 10\n",
      "9.564130952380953 [ 8 10  1  0  4] 10\n",
      "0.08 [6 5 3 1 0] 0\n",
      "13.43 [14 13  1  0  8] 13\n",
      "9.21 [8 8 2 0 2] 8\n",
      "9.54 [8 9 1 0 8] 10\n",
      "15.37 [16 15  2  0 10] 15\n",
      "0.62 [8 8 2 0 0] 9\n",
      "0.36 [10  0  2  0  0] 0\n",
      "5.82 [5 6 2 0 6] 6\n",
      "15.02 [12 15  1  0  0] 15\n",
      "8.8 [10  8  2  0 10] 8\n",
      "7.46 [7 7 3 0 6] 7\n",
      "0.0 [7 4 1 2 0] 0\n",
      "10.82 [12 10  2  1 18] 10\n",
      "14.06 [15 14  2  0  8] 14\n",
      "5.91 [7 6 1 0 5] 7\n",
      "13.06 [10 13  1  0 12] 12\n",
      "18.585833333333333 [19 18  3  0  0] 19\n",
      "9.922285714285715 [10 10  1  0  2] 10\n",
      "10.365 [11 11  3  0  3] 11\n",
      "9.73 [9 9 2 0 6] 10\n",
      "6.77 [ 6  7  2  1 15] 8\n",
      "11.3925 [12 12  2  0  0] 11\n",
      "16.81 [14 16  3  0  0] 16\n",
      "13.03 [12 12  1  0  2] 11\n",
      "9.95 [8 9 2 0 2] 8\n",
      "12.920833333333334 [11 13  2  0  2] 14\n",
      "12.155333333333333 [13 13  2  0  2] 13\n",
      "10.259 [11 10  1  0  8] 10\n",
      "12.796666666666665 [13 13  3  0  0] 14\n",
      "18.97 [18 19  1  0  6] 19\n",
      "4.94 [6 7 2 0 0] 0\n",
      "9.1 [7 8 2 3 2] 9\n",
      "5.59 [3 5 2 1 8] 5\n",
      "8.78 [7 7 2 3 5] 7\n",
      "4.33 [7 9 4 0 0] 0\n",
      "9.10875 [10 10  2  0  0] 10\n",
      "9.98 [8 9 2 0 4] 10\n",
      "12.781666666666665 [14 13  2  0  2] 13\n",
      "12.25 [11 12  2  0 12] 11\n",
      "12.685 [13 13  2  0 14] 14\n",
      "8.19 [6 9 1 1 4] 8\n",
      "11.91 [14 12  2  0 20] 13\n",
      "11.44 [14 12  2  1  0] 12\n",
      "12.8 [15 12  2  1  0] 12\n",
      "10.082785714285714 [10 10  2  0  2] 11\n",
      "11.7375 [ 8 11  2  0  0] 11\n",
      "12.796666666666665 [13 13  3  0  0] 13\n",
      "10.339166666666667 [11 11  2  0  2] 11\n",
      "7.63 [ 7  8  2  0 12] 8\n",
      "10.339166666666667 [11 11  2  0  2] 11\n"
     ]
    }
   ],
   "source": [
    "#random forest\n",
    "\n",
    "random_forest = RandomForestRegressor() \n",
    "random_forest.fit(x_train, y_train)\n",
    "\n",
    "y_predf = random_forest.predict(x_test)\n",
    "\n",
    "for x in range(len(predictions)):\n",
    "    print(y_predf[x], x_test[x], y_test[x])"
   ]
  },
  {
   "cell_type": "code",
   "execution_count": 197,
   "id": "e6065c91",
   "metadata": {},
   "outputs": [
    {
     "name": "stdout",
     "output_type": "stream",
     "text": [
      "Evaluation for random forest model\n",
      "\n",
      "Explained variance score:\n",
      "0.8662131585390207 \n",
      "\n",
      "Max error:\n",
      "7.93 \n",
      "\n",
      "Mean absolute error:\n",
      "0.9286389391199515 \n",
      "\n",
      "Mean squared error:\n",
      "2.6855216330405582 \n",
      "\n",
      "Root mean squared error:\n",
      "1.6387561237232824 \n",
      "\n",
      "Median absolute error:\n",
      "0.4933333333333323 \n",
      "\n",
      "R² score:\n",
      "0.8661207723316069 \n",
      "\n",
      "Adjusted-R2 :  0.8569509622173334\n"
     ]
    }
   ],
   "source": [
    "print('Evaluation for random forest model\\n')\n",
    "\n",
    "#Explained variance score\n",
    "print('Explained variance score:')\n",
    "print(explained_variance_score(y_test, y_predf),'\\n')\n",
    "\n",
    "#max error\n",
    "print('Max error:')\n",
    "print(max_error(y_test, y_predf),'\\n')\n",
    "\n",
    "#Mean absolute error\n",
    "print('Mean absolute error:')\n",
    "print(mean_absolute_error(y_test, y_predf),'\\n')\n",
    "\n",
    "#Mean squared error\n",
    "print('Mean squared error:')\n",
    "print(mean_squared_error(y_test, y_predf),'\\n')\n",
    "\n",
    "#Root mean squared error\n",
    "print('Root mean squared error:')\n",
    "print(mean_squared_error(y_test, y_predf, squared=False),'\\n')\n",
    "\n",
    "#Median absolute error\n",
    "print('Median absolute error:')\n",
    "print(median_absolute_error(y_test, y_predf),'\\n')\n",
    "\n",
    "\n",
    "#R² score\n",
    "print('R² score:')\n",
    "print(r2_score(y_test, y_predf),'\\n')\n",
    "\n",
    "#Adjusted-R2\n",
    "r2 = r2_score(y_test, y_predf)\n",
    "N=79\n",
    "p=5\n",
    "x = (1-r2)\n",
    "y = (N-1) / (N-p-1)\n",
    "adj_rsquared = (1 - (x * y))\n",
    "print(\"Adjusted-R2 : \" , adj_rsquared)"
   ]
  },
  {
   "cell_type": "code",
   "execution_count": 206,
   "id": "0bbdf96e",
   "metadata": {},
   "outputs": [
    {
     "name": "stdout",
     "output_type": "stream",
     "text": [
      "Coefficient: \n",
      " [ 0.14864289  0.98035291 -0.13923834 -0.35247725  0.03191906]\n",
      "Intercept: \n",
      " -1.4992924202927451\n",
      "6.401520686677738 [8 7 2 0 4] 6\n",
      "15.721368345279748 [17 15  1  0  4] 16\n",
      "5.750836901768227 [5 8 2 3 0] 7\n",
      "17.127278341454293 [16 17  3  0  0] 17\n",
      "14.01876760063032 [13 14  1  0  0] 13\n",
      "9.127345831115369 [11  9  2  0 14] 9\n",
      "15.656920565370067 [16 15  2  0 11] 15\n",
      "11.983599791772095 [10 12  2  0 16] 11\n",
      "7.082430287938697 [7 8 4 0 8] 8\n",
      "5.058676315731677 [ 6  6  2  1 13] 8\n",
      "8.029348347130444 [ 9  9  2  2 11] 9\n",
      "16.43480666219694 [17 16  2  0  0] 16\n",
      "15.305810858582165 [16 15  2  0  0] 15\n",
      "12.058061782748014 [13 12  1  0  0] 12\n",
      "15.07236319774181 [14 15  2  0  2] 15\n",
      "9.639865202848444 [10 10  2  0  4] 10\n",
      "5.471765190875507 [8 7 2 3 8] 8\n",
      "15.008525069234919 [14 15  2  0  0] 16\n",
      "6.28403896350958 [8 7 1 1 7] 8\n",
      "-0.44938759791393634 [8 0 1 0 0] 0\n",
      "14.231248623810833 [14 14  1  0  2] 13\n",
      "8.030715891281215 [9 9 2 1 0] 0\n",
      "9.737170262538939 [ 8 10  1  0 12] 10\n",
      "10.618060593456647 [11 11  4  0  8] 10\n",
      "5.060043859882449 [6 6 2 0 2] 6\n",
      "9.576027074341553 [10 10  2  0  2] 10\n",
      "-0.7466733872611828 [6 0 1 0 0] 0\n",
      "9.69138336061096 [11 10  2  1 12] 10\n",
      "9.481817748511375 [ 8 10  1  0  4] 10\n",
      "3.524137236485558 [6 5 3 1 0] 0\n",
      "13.442410100390354 [14 13  1  0  8] 13\n",
      "7.318035467112001 [8 8 2 0 2] 8\n",
      "8.629141096584004 [8 9 1 0 8] 10\n",
      "15.62500150111662 [16 15  2  0 10] 15\n",
      "7.25419733860511 [8 8 2 0 0] 9\n",
      "-0.2913401435768668 [10  0  2  0  0] 0\n",
      "5.039077222222607 [5 6 2 0 6] 6\n",
      "14.85047761489785 [12 15  1  0  0] 15\n",
      "7.87067377048681 [10  8  2  0 10] 8\n",
      "6.17747758550083 [7 7 3 0 6] 7\n",
      "2.6184266412997097 [7 4 1 2 0] 0\n",
      "10.031540640805256 [12 10  2  1 18] 10\n",
      "14.432167568994952 [15 14  2  0  8] 14\n",
      "5.443682282326585 [7 6 1 0 5] 7\n",
      "12.975514778709643 [10 13  1  0 12] 12\n",
      "18.55355993441632 [19 18  3  0  0] 19\n",
      "9.71526540935173 [10 10  1  0  2] 10\n",
      "10.597703607199596 [11 11  3  0  3] 11\n",
      "8.574707527740559 [9 9 2 0 6] 10\n",
      "6.10286735317972 [ 6  7  2  1 15] 8\n",
      "11.770180553064215 [12 12  2  0  0] 11\n",
      "15.849639643165895 [14 16  3  0  0] 16\n",
      "11.973257016581282 [12 12  1  0  2] 11\n",
      "8.298388376053154 [8 9 2 0 2] 8\n",
      "12.665728695838636 [11 13  2  0  2] 14\n",
      "12.963014485185882 [13 13  2  0  2] 13\n",
      "10.055422689546026 [11 10  1  0  8] 10\n",
      "12.759938021668814 [13 13  3  0  0] 14\n",
      "19.85526100422487 [18 19  1  0  6] 19\n",
      "5.976558640316711 [6 7 2 0 0] 0\n",
      "6.1119608196223645 [7 8 2 3 2] 9\n",
      "3.472799401502428 [3 5 2 1 8] 5\n",
      "5.227365103441548 [7 7 2 3 5] 7\n",
      "7.807430682852287 [7 9 4 0 0] 0\n",
      "9.512188945834664 [10 10  2  0  0] 10\n",
      "8.362226504560045 [8 9 2 0 4] 10\n",
      "13.111657379859505 [14 13  2  0  2] 13\n",
      "12.004566429431936 [11 12  2  0 12] 11\n",
      "13.346043256227228 [13 13  2  0 14] 14\n",
      "7.851701799284305 [6 9 1 1 4] 8\n",
      "12.705847627480368 [14 12  2  0 20] 13\n",
      "11.71498909147279 [14 12  2  1  0] 12\n",
      "11.863631986146412 [15 12  2  1  0] 12\n",
      "9.576027074341553 [10 10  2  0  2] 11\n",
      "10.195256065428568 [ 8 11  2  0  0] 11\n",
      "12.759938021668814 [13 13  3  0  0] 13\n",
      "10.70502287795633 [11 11  2  0  2] 11\n",
      "7.488583214972833 [ 7  8  2  0 12] 8\n",
      "10.70502287795633 [11 11  2  0  2] 11\n"
     ]
    }
   ],
   "source": [
    "#Ridge Regression\n",
    "reg = linear_model.Ridge(alpha=.5)\n",
    "\n",
    "reg.fit(x_train, y_train)\n",
    "\n",
    "print('Coefficient: \\n', reg.coef_) # These are each slope value\n",
    "print('Intercept: \\n', reg.intercept_) # This is the intercept\n",
    "\n",
    "predictionsreg = reg.predict(x_test) # Gets a list of all predictions\n",
    "\n",
    "for x in range(len(predictionsreg)):\n",
    "    print(predictionsreg[x], x_test[x], y_test[x])"
   ]
  },
  {
   "cell_type": "code",
   "execution_count": 203,
   "id": "15e7a19a",
   "metadata": {},
   "outputs": [
    {
     "name": "stdout",
     "output_type": "stream",
     "text": [
      "Evaluation for Ridge\n",
      "\n",
      "Explained variance score:\n",
      "0.8393984001913485 \n",
      "\n",
      "Max error:\n",
      "8.030715891281215 \n",
      "\n",
      "Mean absolute error:\n",
      "1.0696042296422723 \n",
      "\n",
      "Mean squared error:\n",
      "3.2233642989671587 \n",
      "\n",
      "Root mean squared error:\n",
      "1.7953730250193576 \n",
      "\n",
      "Median absolute error:\n",
      "0.6539567437727722 \n",
      "\n",
      "R² score:\n",
      "0.8393081189403784 \n",
      "\n",
      "Adjusted-R2 :  0.8283018257171166\n"
     ]
    }
   ],
   "source": [
    "print('Evaluation for Ridge\\n')\n",
    "\n",
    "#Explained variance score\n",
    "print('Explained variance score:')\n",
    "print(explained_variance_score(y_test, predictionsreg),'\\n')\n",
    "\n",
    "#max error\n",
    "print('Max error:')\n",
    "print(max_error(y_test, predictionsreg),'\\n')\n",
    "\n",
    "#Mean absolute error\n",
    "print('Mean absolute error:')\n",
    "print(mean_absolute_error(y_test, predictionsreg),'\\n')\n",
    "\n",
    "#Mean squared error\n",
    "print('Mean squared error:')\n",
    "print(mean_squared_error(y_test, predictionsreg),'\\n')\n",
    "\n",
    "#Root mean squared error\n",
    "print('Root mean squared error:')\n",
    "print(mean_squared_error(y_test, predictionsreg, squared=False),'\\n')\n",
    "\n",
    "#Median absolute error\n",
    "print('Median absolute error:')\n",
    "print(median_absolute_error(y_test, predictionsreg),'\\n')\n",
    "\n",
    "\n",
    "#R² score\n",
    "print('R² score:')\n",
    "print(r2_score(y_test, predictionsreg),'\\n')\n",
    "\n",
    "#Adjusted-R2\n",
    "r2 = r2_score(y_test, predictionsreg)\n",
    "N=79\n",
    "p=5\n",
    "x = (1-r2)\n",
    "y = (N-1) / (N-p-1)\n",
    "adj_rsquared = (1 - (x * y))\n",
    "print(\"Adjusted-R2 : \" , adj_rsquared)"
   ]
  },
  {
   "cell_type": "code",
   "execution_count": 209,
   "id": "884c638a",
   "metadata": {},
   "outputs": [
    {
     "name": "stdout",
     "output_type": "stream",
     "text": [
      "Alpha: \n",
      " 10.0\n",
      "Coefficient: \n",
      " [ 0.154826    0.97480935 -0.13153871 -0.33286301  0.03182697]\n",
      "Intercept: \n",
      " -1.5293025914338472\n",
      "6.397201337296271 [8 7 2 0 4] 6\n",
      "15.720648860527234 [17 15  1  0  4] 16\n",
      "5.781635795646465 [5 8 2 3 0] 7\n",
      "17.125056278213876 [16 17  3  0  0] 17\n",
      "13.999227633324843 [13 14  1  0  0] 13\n",
      "9.129567729519199 [11  9  2  0 14] 9\n",
      "15.657072936282344 [16 15  2  0 11] 15\n",
      "11.96282372383406 [10 12  2  0 16] 11\n",
      "7.0814151530802825 [7 8 4 0 8] 8\n",
      "5.066319697993239 [ 6  6  2  1 13] 8\n",
      "8.058708810669959 [ 9  9  2  2 11] 9\n",
      "16.43661163176538 [17 16  2  0  0] 16\n",
      "15.306976279584031 [16 15  2  0  0] 15\n",
      "12.049608928867494 [13 12  1  0  0] 12\n",
      "15.060978217260196 [14 15  2  0  2] 15\n",
      "9.631281393887642 [10 10  2  0  4] 10\n",
      "5.525920193601856 [8 7 2 3 8] 8\n",
      "14.997324279678686 [14 15  2  0  0] 16\n",
      "6.291357943210232 [8 7 1 1 7] 8\n",
      "-0.4222332976399681 [8 0 1 0 0] 0\n",
      "14.217707570859027 [14 14  1  0  2] 13\n",
      "8.041475160257459 [9 9 2 1 0] 0\n",
      "9.707783850135849 [ 8 10  1  0 12] 10\n",
      "10.625147209577 [11 11  4  0  8] 10\n",
      "5.049086047580738 [6 6 2 0 2] 6\n",
      "9.56762745630613 [10 10  2  0  2] 10\n",
      "-0.7318852975453145 [6 0 1 0 0] 0\n",
      "9.70786013788055 [11 10  2  1 12] 10\n",
      "9.453168099809803 [ 8 10  1  0  4] 10\n",
      "3.5462210456572336 [6 5 3 1 0] 0\n",
      "13.433860031374888 [14 13  1  0  8] 13\n",
      "7.308356751943435 [8 8 2 0 2] 8\n",
      "8.60566662274415 [8 9 1 0 8] 10\n",
      "15.625245967491587 [16 15  2  0 10] 15\n",
      "7.244702814361922 [8 8 2 0 0] 9\n",
      "-0.24412000356212826 [10  0  2  0  0] 0\n",
      "5.021567922791088 [5 6 2 0 6] 6\n",
      "14.819210985600844 [12 15  1  0  0] 15\n",
      "7.872624502174826 [10  8  2  0 10] 8\n",
      "6.174490569097602 [7 7 3 0 6] 7\n",
      "2.6564520987504316 [7 4 1 2 0] 0\n",
      "10.053647950577757 [12 10  2  1 18] 10\n",
      "14.431956677728728 [15 14  2  0  8] 14\n",
      "5.430931659733186 [7 6 1 0 5] 7\n",
      "12.94186390672722 [10 13  1  0 12] 12\n",
      "18.56434363030057 [19 18  3  0  0] 19\n",
      "9.699166162133638 [10 10  1  0  2] 10\n",
      "10.597551071450727 [11 11  3  0  3] 11\n",
      "8.565299979287806 [9 9 2 0 6] 10\n",
      "6.104782987803425 [ 6  7  2  1 15] 8\n",
      "11.763244223087314 [12 12  2  0  0] 11\n",
      "15.840594926079852 [14 16  3  0  0] 16\n",
      "11.958436866496333 [12 12  1  0  2] 11\n",
      "8.28316610417211 [8 9 2 0 2] 8\n",
      "12.646881512944828 [11 13  2  0  2] 14\n",
      "12.956533512850175 [13 13  2  0  2] 13\n",
      "10.044953974830845 [11 10  1  0  8] 10\n",
      "12.761340869441156 [13 13  3  0  0] 14\n",
      "19.83836620697612 [18 19  1  0  6] 19\n",
      "5.960241462227901 [6 7 2 0 0] 0\n",
      "6.154941733133323 [7 8 2 3 2] 9\n",
      "3.467897501952767 [3 5 2 1 8] 5\n",
      "5.275613287276915 [7 7 2 3 5] 7\n",
      "7.801608754982912 [7 9 4 0 0] 0\n",
      "9.503973518724619 [10 10  2  0  0] 10\n",
      "8.34682004175362 [8 9 2 0 4] 10\n",
      "13.111359512802848 [14 13  2  0  2] 13\n",
      "11.99034184862371 [11 12  2  0 12] 11\n",
      "13.338457138339244 [13 13  2  0 14] 14\n",
      "7.835843741389969 [6 9 1 1 4] 8\n",
      "12.709435598807776 [14 12  2  0 20] 13\n",
      "11.740033216706848 [14 12  2  1  0] 12\n",
      "11.894859216659523 [15 12  2  1  0] 12\n",
      "9.56762745630613 [10 10  2  0  2] 11\n",
      "10.169130871047948 [ 8 11  2  0  0] 11\n",
      "12.761340869441156 [13 13  3  0  0] 13\n",
      "10.697262808487478 [11 11  2  0  2] 11\n",
      "7.471800439898319 [ 7  8  2  0 12] 8\n",
      "10.697262808487478 [11 11  2  0  2] 11\n"
     ]
    }
   ],
   "source": [
    "regr_cv = RidgeCV(alphas=[0.1, 1.0, 10.0])\n",
    "model_cv = regr_cv.fit(x_train, y_train)\n",
    "print('Alpha: \\n', model_cv.alpha_)\n",
    "print('Coefficient: \\n', model_cv.coef_) # These are each slope value\n",
    "print('Intercept: \\n', model_cv.intercept_) # This is the intercept\n",
    "\n",
    "predictionsregcv = model_cv.predict(x_test) # Gets a list of all predictions\n",
    "\n",
    "for x in range(len(predictionsregcv)):\n",
    "    print(predictionsregcv[x], x_test[x], y_test[x])"
   ]
  },
  {
   "cell_type": "code",
   "execution_count": 210,
   "id": "7956e207",
   "metadata": {},
   "outputs": [
    {
     "name": "stdout",
     "output_type": "stream",
     "text": [
      "Evaluation for RidgeCV\n",
      "\n",
      "Explained variance score:\n",
      "0.8397033882820529 \n",
      "\n",
      "Max error:\n",
      "8.041475160257459 \n",
      "\n",
      "Mean absolute error:\n",
      "1.0678756382118417 \n",
      "\n",
      "Mean squared error:\n",
      "3.2173551748564315 \n",
      "\n",
      "Root mean squared error:\n",
      "1.7936987413878707 \n",
      "\n",
      "Median absolute error:\n",
      "0.6570729362823435 \n",
      "\n",
      "R² score:\n",
      "0.8396076871453072 \n",
      "\n",
      "Adjusted-R2 :  0.828621912292246\n"
     ]
    }
   ],
   "source": [
    "print('Evaluation for RidgeCV\\n')\n",
    "\n",
    "#Explained variance score\n",
    "print('Explained variance score:')\n",
    "print(explained_variance_score(y_test, predictionsregcv),'\\n')\n",
    "\n",
    "#max error\n",
    "print('Max error:')\n",
    "print(max_error(y_test, predictionsregcv),'\\n')\n",
    "\n",
    "#Mean absolute error\n",
    "print('Mean absolute error:')\n",
    "print(mean_absolute_error(y_test, predictionsregcv),'\\n')\n",
    "\n",
    "#Mean squared error\n",
    "print('Mean squared error:')\n",
    "print(mean_squared_error(y_test, predictionsregcv),'\\n')\n",
    "\n",
    "#Root mean squared error\n",
    "print('Root mean squared error:')\n",
    "print(mean_squared_error(y_test, predictionsregcv, squared=False),'\\n')\n",
    "\n",
    "#Median absolute error\n",
    "print('Median absolute error:')\n",
    "print(median_absolute_error(y_test, predictionsregcv),'\\n')\n",
    "\n",
    "\n",
    "#R² score\n",
    "print('R² score:')\n",
    "print(r2_score(y_test, predictionsregcv),'\\n')\n",
    "\n",
    "#Adjusted-R2\n",
    "r2 = r2_score(y_test, predictionsregcv)\n",
    "N=79\n",
    "p=5\n",
    "x = (1-r2)\n",
    "y = (N-1) / (N-p-1)\n",
    "adj_rsquared = (1 - (x * y))\n",
    "print(\"Adjusted-R2 : \" , adj_rsquared)"
   ]
  }
 ],
 "metadata": {
  "kernelspec": {
   "display_name": "Python 3",
   "language": "python",
   "name": "python3"
  },
  "language_info": {
   "codemirror_mode": {
    "name": "ipython",
    "version": 3
   },
   "file_extension": ".py",
   "mimetype": "text/x-python",
   "name": "python",
   "nbconvert_exporter": "python",
   "pygments_lexer": "ipython3",
   "version": "3.8.8"
  }
 },
 "nbformat": 4,
 "nbformat_minor": 5
}
